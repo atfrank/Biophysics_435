{
 "cells": [
  {
   "cell_type": "code",
   "execution_count": 1,
   "metadata": {},
   "outputs": [],
   "source": [
    "%%capture\n",
    "from machine_learning import *\n",
    "from keras import backend as K\n",
    "from keras.callbacks import TensorBoard\n",
    "import pandas as pd\n",
    "import plotly.express as px\n",
    "import numpy as np\n",
    "from sklearn.metrics import mean_absolute_error\n",
    "import os\n",
    "import talos"
   ]
  },
  {
   "cell_type": "code",
   "execution_count": 2,
   "metadata": {},
   "outputs": [],
   "source": [
    "database = load_entire_database()"
   ]
  },
  {
   "cell_type": "markdown",
   "metadata": {},
   "source": [
    "[Hyperparameter Optimization](https://towardsdatascience.com/hyperparameter-optimization-with-keras-b82e6364ca53)"
   ]
  },
  {
   "cell_type": "code",
   "execution_count": 4,
   "metadata": {},
   "outputs": [
    {
     "name": "stderr",
     "output_type": "stream",
     "text": [
      "\n",
      "  0%|          | 0/36 [00:00<?, ?it/s]\u001b[A\n",
      "  3%|▎         | 1/36 [00:14<08:35, 14.74s/it]\u001b[A\n",
      "  6%|▌         | 2/36 [00:28<08:14, 14.56s/it]\u001b[A\n",
      "  8%|▊         | 3/36 [00:47<08:35, 15.63s/it]\u001b[A\n",
      " 11%|█         | 4/36 [01:01<08:05, 15.16s/it]\u001b[A\n",
      " 14%|█▍        | 5/36 [01:13<07:27, 14.44s/it]\u001b[A\n",
      " 17%|█▋        | 6/36 [03:25<24:46, 49.54s/it]\u001b[A\n",
      " 19%|█▉        | 7/36 [03:41<19:09, 39.64s/it]\u001b[A\n",
      " 22%|██▏       | 8/36 [03:58<15:19, 32.84s/it]\u001b[A\n",
      " 25%|██▌       | 9/36 [04:26<14:03, 31.23s/it]\u001b[A\n",
      " 28%|██▊       | 10/36 [05:31<17:53, 41.29s/it]\u001b[A\n",
      " 31%|███       | 11/36 [05:44<13:45, 33.03s/it]\u001b[A\n",
      " 33%|███▎      | 12/36 [05:58<10:53, 27.23s/it]\u001b[A\n",
      " 36%|███▌      | 13/36 [07:06<15:07, 39.44s/it]\u001b[A\n",
      " 39%|███▉      | 14/36 [07:20<11:39, 31.80s/it]\u001b[A\n",
      " 42%|████▏     | 15/36 [07:36<09:28, 27.06s/it]\u001b[A\n",
      " 44%|████▍     | 16/36 [07:50<07:41, 23.09s/it]\u001b[A\n",
      " 47%|████▋     | 17/36 [08:26<08:34, 27.07s/it]\u001b[A\n",
      " 50%|█████     | 18/36 [10:38<17:35, 58.66s/it]\u001b[A\n",
      " 53%|█████▎    | 19/36 [11:02<13:39, 48.18s/it]\u001b[A\n",
      " 56%|█████▌    | 20/36 [1:24:40<6:02:27, 1359.20s/it]\u001b[A\n",
      " 58%|█████▊    | 21/36 [1:26:56<4:08:01, 992.10s/it] \u001b[A\n",
      " 61%|██████    | 22/36 [1:27:26<2:44:09, 703.54s/it]\u001b[A\n",
      " 64%|██████▍   | 23/36 [1:29:34<1:55:02, 530.92s/it]\u001b[A\n",
      " 67%|██████▋   | 24/36 [1:30:09<1:16:23, 381.96s/it]\u001b[A\n",
      " 69%|██████▉   | 25/36 [1:30:21<49:41, 271.09s/it]  \u001b[A\n",
      " 72%|███████▏  | 26/36 [1:30:39<32:32, 195.28s/it]\u001b[A\n",
      " 75%|███████▌  | 27/36 [1:31:09<21:48, 145.40s/it]\u001b[A\n",
      " 78%|███████▊  | 28/36 [1:31:31<14:27, 108.40s/it]\u001b[A\n",
      " 81%|████████  | 29/36 [1:31:46<09:22, 80.40s/it] \u001b[A\n",
      " 83%|████████▎ | 30/36 [1:33:48<09:18, 93.04s/it]\u001b[A\n",
      " 86%|████████▌ | 31/36 [1:34:02<05:47, 69.41s/it]\u001b[A\n",
      " 89%|████████▉ | 32/36 [1:36:07<05:44, 86.01s/it]\u001b[A\n",
      " 92%|█████████▏| 33/36 [1:36:21<03:12, 64.24s/it]\u001b[A\n",
      " 94%|█████████▍| 34/36 [1:36:33<01:37, 48.80s/it]\u001b[A\n",
      " 97%|█████████▋| 35/36 [1:37:38<00:53, 53.48s/it]\u001b[A\n",
      "100%|██████████| 36/36 [1:37:59<00:00, 163.31s/it][A\n"
     ]
    }
   ],
   "source": [
    "t = talos.Scan(x=database['features_train'],\n",
    "            y=database['targets_train_scaled'],                     \n",
    "            x_val = database['features_test'], \n",
    "            y_val = database['targets_test_scaled'],\n",
    "            model=talos_model,\n",
    "            fraction_limit=0.0001, \n",
    "            params=talos_search_space(),\n",
    "            experiment_name='tune_1')"
   ]
  },
  {
   "cell_type": "code",
   "execution_count": null,
   "metadata": {},
   "outputs": [],
   "source": []
  },
  {
   "cell_type": "code",
   "execution_count": 7,
   "metadata": {},
   "outputs": [
    {
     "data": {
      "text/plain": [
       "experiment_name                  tune_1\n",
       "random_method          uniform_mersenne\n",
       "reduction_method                   None\n",
       "reduction_interval                   50\n",
       "reduction_window                     20\n",
       "reduction_threshold                 0.2\n",
       "reduction_metric                val_acc\n",
       "complete_time            11/18/20/21:08\n",
       "x_shape                      (2681, 53)\n",
       "y_shape                      (2681, 19)\n",
       "dtype: object"
      ]
     },
     "execution_count": 7,
     "metadata": {},
     "output_type": "execute_result"
    }
   ],
   "source": [
    "t.details"
   ]
  }
 ],
 "metadata": {
  "kernelspec": {
   "display_name": "Python 3",
   "language": "python",
   "name": "python3"
  },
  "language_info": {
   "codemirror_mode": {
    "name": "ipython",
    "version": 3
   },
   "file_extension": ".py",
   "mimetype": "text/x-python",
   "name": "python",
   "nbconvert_exporter": "python",
   "pygments_lexer": "ipython3",
   "version": "3.7.9"
  }
 },
 "nbformat": 4,
 "nbformat_minor": 4
}
