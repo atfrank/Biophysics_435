{
 "cells": [
  {
   "cell_type": "markdown",
   "metadata": {},
   "source": [
    "# Constructing a 3D ensemble of the phage T4 lysozyme (T4L) protein\n",
    "\n",
    "* **The Goal**:\n",
    "    * Complete this notebook to generate a 3D ensemble of the T4 lysozyme (T4L) protein. \n",
    "    * **The Input files are**:\n",
    "        * Experimental chemical shifts: ```data/proteins/measured_shifts.dat```\n",
    "        * Computed (simulated) chemical shifts: ```data/proteins/computed_shifts.dat```\n",
    "            * The computed chemical shifts were estimated from 3D coordinates of 12 simulated structures of T4L using the tool [Larmor$^{C\\alpha}$](https://pubs.acs.org/doi/10.1021/ct5009125).\n",
    "        * Chemical shift uncertainity: ```data/proteins/uncertainity.dat```\n",
    "        * Structures:\n",
    "            * All native NMR structure of the native T4L: ```data/proteins/3dmv_all_atom.pdb and 3dmv_coarse_grained.pdb``` (only CA atoms)\n",
    "            * Coarsed native NMR structure of the native T4L: ```data/proteins/3dmv_coarse_grained.pdb``` (only CA atoms)\n",
    "            * Simulated structures: ```data/proteins/model_[1-12].pdb```\n",
    "            \n",
    "* **Tasks**:\n",
    "    1. Read in chemical shift data and output BME-formatted files.\n",
    "    2. Determine the best $\\theta$ value to use for BME reweighting.\n",
    "    3. For the best $\\theta$ value, plot or list the weights of each conformer.\n",
    "\n",
    "* **Question**:\n",
    "    * How did you choose $\\theta$?\n",
    "    * How does the **highest** weighted structure compare to the native T4L structure? If not similar, what are some possible reasons. For this analysis you will have to use a molecular viewer should as [PyMOL](https://pymol.org/2/) or [VMD](https://www.ks.uiuc.edu/Research/vmd/) or [Chimera](https://www.cgl.ucsf.edu/chimera/) or [NGLView](https://github.com/nglviewer/nglview) to view and compare the structures (see above).\n",
    "\n",
    "* **How to submit**:\n",
    "    * **Please rename this file** as ``Final_Assignment_3D_Ensemble_firstname_lastname.ipynb`` before you submit it to canvas."
   ]
  },
  {
   "cell_type": "markdown",
   "metadata": {},
   "source": [
    "## Get BME code"
   ]
  },
  {
   "cell_type": "code",
   "execution_count": null,
   "metadata": {},
   "outputs": [],
   "source": [
    "%%capture\n",
    "!git clone https://github.com/sbottaro/BME.git\n",
    "import BME.bme_reweight as bme"
   ]
  },
  {
   "cell_type": "markdown",
   "metadata": {},
   "source": [
    "## Other required imports"
   ]
  },
  {
   "cell_type": "code",
   "execution_count": 5,
   "metadata": {},
   "outputs": [],
   "source": [
    "%%capture\n",
    "import pandas as pd\n",
    "import numpy as np\n",
    "from reweighting import *"
   ]
  },
  {
   "cell_type": "markdown",
   "metadata": {},
   "source": [
    "## 1. Read in chemical shift data and output BME-formatted files\n",
    "\n",
    "Hint: see ```write_BME_chemical_shifts()```"
   ]
  },
  {
   "cell_type": "code",
   "execution_count": 6,
   "metadata": {},
   "outputs": [],
   "source": [
    "# add code here"
   ]
  },
  {
   "cell_type": "markdown",
   "metadata": {},
   "source": [
    "## 2. Determine the best $\\theta$ value to use for BME reweighting.\n",
    "Use files generated above to carry out BME analysis\n",
    "\n",
    "Hint: see ```find_weights()```"
   ]
  },
  {
   "cell_type": "code",
   "execution_count": null,
   "metadata": {},
   "outputs": [],
   "source": [
    "# add code here"
   ]
  },
  {
   "cell_type": "markdown",
   "metadata": {},
   "source": [
    "## 3. For the best $\\theta$ value, plot or list the weights of each conformer."
   ]
  },
  {
   "cell_type": "code",
   "execution_count": null,
   "metadata": {},
   "outputs": [],
   "source": [
    "# add code here"
   ]
  },
  {
   "cell_type": "markdown",
   "metadata": {},
   "source": [
    "## **Question**:\n",
    "* How did you choose $\\theta$?\n",
    "* How does the **highest** weighted structure compare to the native T4L structure? If not similar, what are some possible reasons."
   ]
  },
  {
   "cell_type": "markdown",
   "metadata": {},
   "source": [
    "Add response here"
   ]
  }
 ],
 "metadata": {
  "kernelspec": {
   "display_name": "Python 3",
   "language": "python",
   "name": "python3"
  },
  "language_info": {
   "codemirror_mode": {
    "name": "ipython",
    "version": 3
   },
   "file_extension": ".py",
   "mimetype": "text/x-python",
   "name": "python",
   "nbconvert_exporter": "python",
   "pygments_lexer": "ipython3",
   "version": "3.7.9"
  }
 },
 "nbformat": 4,
 "nbformat_minor": 4
}
