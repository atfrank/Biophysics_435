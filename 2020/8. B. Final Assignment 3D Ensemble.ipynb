{
 "cells": [
  {
   "cell_type": "markdown",
   "metadata": {},
   "source": [
    "# Constructing a 3D ensemble of HIV-1 TAR\n",
    "\n",
    "* **The Goal**:\n",
    "    * Complete this notebook to generate a 3D ensemble of HIV-1 TAR. \n",
    "    * **The Input files are**:\n",
    "        * Experimental chemical shifts: data/chemical_shifts/measured_shifts_7JU1.dat\n",
    "        * Computed (simulated) chemical shifts: data/chemical_shifts/computed_shifts_7JU1.dat\n",
    "            * The computed chemical shifts were estimated from the 3D coordinates of 20 structures of the [HIV-1 TAR](https://www.rcsb.org/structure/7JU1).\n",
    "        * Chemical shift uncertainity: data/chemical_shifts/uncertainity.dat\n",
    "            \n",
    "* **Tasks**:\n",
    "    1. Read in chemical shift data and output BME-formatted files.\n",
    "    2. Determine the best $\\theta$ value to use for BME reweighting.\n",
    "    3. For the best $\\theta$ value, plot or list the weights of each conformer.\n",
    "\n",
    "* **Question**:\n",
    "    * How did you choose $\\theta$?\n",
    "    * Are you results consistent with TAR sampling single dominant structure in solution? Explain.\n",
    "\n",
    "* **How to submit**:\n",
    "    * **Please rename this file** as ``Final_Assignment_3D_Ensemble_firstname_lastname.ipynb`` before you submit it to canvas."
   ]
  },
  {
   "cell_type": "markdown",
   "metadata": {},
   "source": [
    "## Get BME code"
   ]
  },
  {
   "cell_type": "code",
   "execution_count": null,
   "metadata": {},
   "outputs": [],
   "source": [
    "%%capture\n",
    "!git clone https://github.com/sbottaro/BME.git\n",
    "import BME.bme_reweight as bme"
   ]
  },
  {
   "cell_type": "markdown",
   "metadata": {},
   "source": [
    "## Other required imports"
   ]
  },
  {
   "cell_type": "code",
   "execution_count": 5,
   "metadata": {},
   "outputs": [],
   "source": [
    "%%capture\n",
    "import pandas as pd\n",
    "import numpy as np\n",
    "from reweighting import *"
   ]
  },
  {
   "cell_type": "markdown",
   "metadata": {},
   "source": [
    "## 1. Read in chemical shift data and output BME-formatted files\n",
    "\n",
    "Hint: see ```write_BME_chemical_shifts()```"
   ]
  },
  {
   "cell_type": "code",
   "execution_count": 6,
   "metadata": {},
   "outputs": [],
   "source": [
    "# add code here"
   ]
  },
  {
   "cell_type": "markdown",
   "metadata": {},
   "source": [
    "## 2. Determine the best $\\theta$ value to use for BME reweighting.\n",
    "Use files generated above to carry out BME analysis\n",
    "\n",
    "Hint: see ```find_weights()```"
   ]
  },
  {
   "cell_type": "code",
   "execution_count": null,
   "metadata": {},
   "outputs": [],
   "source": [
    "# add code here"
   ]
  },
  {
   "cell_type": "markdown",
   "metadata": {},
   "source": [
    "## 3. For the best $\\theta$ value, plot or list the weights of each conformer."
   ]
  },
  {
   "cell_type": "code",
   "execution_count": null,
   "metadata": {},
   "outputs": [],
   "source": [
    "# add code here"
   ]
  },
  {
   "cell_type": "markdown",
   "metadata": {},
   "source": [
    "## **Question**:\n",
    "* How did you choose $\\theta$?\n",
    "* Are your results consistent with TAR sampling single dominant structure in solution? Explain."
   ]
  },
  {
   "cell_type": "markdown",
   "metadata": {},
   "source": [
    "Add response here"
   ]
  }
 ],
 "metadata": {
  "kernelspec": {
   "display_name": "Python 3",
   "language": "python",
   "name": "python3"
  },
  "language_info": {
   "codemirror_mode": {
    "name": "ipython",
    "version": 3
   },
   "file_extension": ".py",
   "mimetype": "text/x-python",
   "name": "python",
   "nbconvert_exporter": "python",
   "pygments_lexer": "ipython3",
   "version": "3.7.9"
  }
 },
 "nbformat": 4,
 "nbformat_minor": 4
}
