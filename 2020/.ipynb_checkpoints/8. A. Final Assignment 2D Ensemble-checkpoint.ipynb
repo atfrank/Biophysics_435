{
 "cells": [
  {
   "cell_type": "markdown",
   "metadata": {},
   "source": [
    "# Constructing a 2D ensemble of HIV-1 TAR\n",
    "\n",
    "* **The Goal**:\n",
    "    * Complete this notebook to generate a 2D ensemble of HIV-1 TAR. \n",
    "    * **The Input files are**:\n",
    "        * Experimental chemical shifts: ```data/chemical_shifts/measured_shifts_7JU1.dat```\n",
    "        * 200 2D structures of the HIV-1 TAR (see: ```RNA Folding HIV-1 TAR```): ```data/states_HIV_TAR.sav```    \n",
    "* **Tasks**:\n",
    "    1. Train a neural network model to predict chemical shifts from 2D structures\n",
    "    2. Determine the uncertainity of the model by applying it the testing data\n",
    "    3. Load the saved states of the HIV-1 TAR\n",
    "    4. Predict and store chemical shifts for each state\n",
    "    5. Format and write files need for BME\n",
    "    6. Use BME to determine weights\n",
    "    7. Determine the conformer with the height weight.\n",
    "\n",
    "* **Question**:\n",
    "    * What is the dominant state? How does it compare to the native 2D structure of TAR? If different, explain why.\n",
    "\n",
    "* **How to submit**:\n",
    "    * **Please rename this file** as ``Final_Assignment_2D_Ensemble_firstname_lastname.ipynb`` before you submit it to canvas."
   ]
  },
  {
   "cell_type": "code",
   "execution_count": 4,
   "metadata": {},
   "outputs": [],
   "source": [
    "%%capture\n",
    "from machine_learning import *\n",
    "from PyRNA import *\n",
    "import pandas as pd\n",
    "import plotly.express as px\n",
    "import numpy as np\n",
    "from sklearn.metrics import mean_absolute_error\n",
    "import os"
   ]
  },
  {
   "cell_type": "markdown",
   "metadata": {},
   "source": [
    "## 1. Train a neural network model to predict chemical shifts from 2D structures\n",
    "\n",
    "Use the function: ``talos_model()`` to train your model. In addition to the training and testing (validation) data, you will need to pass a set of hyperparameters to this function. \n",
    "\n",
    "``best_talos_parameters()`` returns a set of optimized parameters you could use to train your model. "
   ]
  },
  {
   "cell_type": "code",
   "execution_count": 5,
   "metadata": {},
   "outputs": [],
   "source": [
    "# inspect database, it is a dictionary containing all the data you need to train your model\n",
    "database = load_entire_database()"
   ]
  },
  {
   "cell_type": "code",
   "execution_count": null,
   "metadata": {},
   "outputs": [],
   "source": [
    "history, model = #add code here"
   ]
  },
  {
   "cell_type": "markdown",
   "metadata": {},
   "source": [
    "## 2. Determine the uncertainity of the model by applying it the testing data\n",
    "\n",
    "This Notebook 5 provides some hints as to how to do this. Ultimately, for BME, you'll need to write out a chemical shift uncertainity file with the following format:\n",
    "```\n",
    "C1' 0.621\n",
    "C2' 0.704\n",
    "...\n",
    "H6 5.346\n",
    "H8 3.560\n",
    "```\n",
    "where column:\n",
    "1. is the nucleus type or atom name\n",
    "2. is the value of the uncertainty"
   ]
  },
  {
   "cell_type": "markdown",
   "metadata": {},
   "source": [
    "## 3. Load the saved states of the HIV-1 TAR"
   ]
  },
  {
   "cell_type": "code",
   "execution_count": null,
   "metadata": {},
   "outputs": [],
   "source": [
    "import joblib\n",
    "filename = \n",
    "loaded_model = joblib.load(filename)"
   ]
  },
  {
   "cell_type": "markdown",
   "metadata": {},
   "source": [
    "## 4. Predict and store chemical shifts for each state of the HIV-1 TAR\n",
    "\n",
    "Hint see: ```state2CT(), cT2features()```\n",
    "\n",
    "Ultimately you'll need to write out a file with the following format:\n",
    "```\n",
    "1 1 GUA C5' 66.5033 7JU1\n",
    "1 1 GUA C4' 81.6784 7JU1\n",
    "1 1 GUA C3' 74.0789 7JU1\n",
    "...\n",
    "200 29 CYT H1' 5.67906 7JU1\n",
    "200 29 CYT H5 5.45511 7JU1\n",
    "200 29 CYT H6 7.75069 7JU1\n",
    "```\n",
    "where column:\n",
    "1. is the state or model number\n",
    "2. is the residue number\n",
    "3. is the nucleus type or atom name\n",
    "4. is the chemical shift value\n",
    "5. is an arbitrary label"
   ]
  },
  {
   "cell_type": "code",
   "execution_count": null,
   "metadata": {},
   "outputs": [],
   "source": [
    "# add code here"
   ]
  },
  {
   "cell_type": "markdown",
   "metadata": {},
   "source": [
    "## 5. Formatted and write files need for BME"
   ]
  },
  {
   "cell_type": "code",
   "execution_count": null,
   "metadata": {},
   "outputs": [],
   "source": [
    "# add code here"
   ]
  },
  {
   "cell_type": "markdown",
   "metadata": {},
   "source": [
    "## 6. Use BME to determine weights"
   ]
  },
  {
   "cell_type": "code",
   "execution_count": null,
   "metadata": {},
   "outputs": [],
   "source": [
    "# add code here"
   ]
  },
  {
   "cell_type": "markdown",
   "metadata": {},
   "source": [
    "## 7. Plot or list the weights of each conformer and determine the conformer with the height weight."
   ]
  },
  {
   "cell_type": "code",
   "execution_count": null,
   "metadata": {},
   "outputs": [],
   "source": [
    "# add code here"
   ]
  },
  {
   "cell_type": "markdown",
   "metadata": {},
   "source": [
    "## **Question**:\n",
    "What is the dominant state? How does it compare to the native 2D structure of TAR? If different, explain why."
   ]
  },
  {
   "cell_type": "markdown",
   "metadata": {},
   "source": [
    "Add you answer here"
   ]
  }
 ],
 "metadata": {
  "kernelspec": {
   "display_name": "Python 3",
   "language": "python",
   "name": "python3"
  },
  "language_info": {
   "codemirror_mode": {
    "name": "ipython",
    "version": 3
   },
   "file_extension": ".py",
   "mimetype": "text/x-python",
   "name": "python",
   "nbconvert_exporter": "python",
   "pygments_lexer": "ipython3",
   "version": "3.7.9"
  }
 },
 "nbformat": 4,
 "nbformat_minor": 4
}
