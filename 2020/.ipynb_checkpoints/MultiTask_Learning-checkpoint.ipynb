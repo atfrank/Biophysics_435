{
 "cells": [
  {
   "cell_type": "code",
   "execution_count": 44,
   "metadata": {},
   "outputs": [
    {
     "name": "stdout",
     "output_type": "stream",
     "text": [
      ">0.000 =0.000\n",
      ">0.000 =0.000\n",
      "MAE: 0.000 (0.000)\n",
      "1ANR: 0.000\n"
     ]
    }
   ],
   "source": [
    "# https://machinelearningmastery.com/deep-learning-models-for-multi-output-regression/\n",
    "# mlp for multi-output regression\n",
    "from numpy import mean, nan\n",
    "from numpy import std\n",
    "from sklearn.datasets import make_regression\n",
    "from sklearn.model_selection import RepeatedKFold\n",
    "from keras.models import Sequential\n",
    "from keras.layers import Dense\n",
    "import pandas as pd\n",
    "\n",
    "# get the dataset\n",
    "def get_dataset(inputfile = 'data/features_onebody_all.csv', sep = \"\\s+\"):\n",
    "    # load sasa data\n",
    "    data = pd.read_csv(inputfile, sep = sep, header = 0)\n",
    "    info_names = ['ID', 'MODEL', 'I', 'J']\n",
    "    targets = ['ECOR', 'EUNCOR', 'GSOL']\n",
    "    excludes = ['DX', 'DY', 'DZ']\n",
    "    info = data[info_names]\n",
    "    y = data[targets]\n",
    "    X = data.drop(info_names+targets+excludes, axis=1)\n",
    "    X = pd.DataFrame(X.values, dtype = 'float')\n",
    "    return(info, y, X)\n",
    "\n",
    "def filter_row(df1, df2, column_value = '1ANR', column = 'ID'):\n",
    "    return df2.loc[df1[column] == column_value, :], df2.loc[df1[column] != column_value, :]\n",
    "\n",
    "# get the model\n",
    "def get_model(n_inputs, n_outputs):\n",
    "    model = Sequential()\n",
    "    model.add(Dense(100, input_dim=n_inputs, kernel_initializer='he_uniform', activation='relu'))\n",
    "    model.add(Dense(n_outputs))\n",
    "    model.compile(loss='mean_squared_error', optimizer='adam')\n",
    "    return model\n",
    " \n",
    "# evaluate a model using repeated k-fold cross-validation\n",
    "def evaluate_model(X, y, X_valid = None, y_valid = None):\n",
    "    results = list()\n",
    "    n_inputs, n_outputs = X.shape[1], y.shape[1]\n",
    "    # define evaluation procedure\n",
    "    cv = RepeatedKFold(n_splits=2, n_repeats=1, random_state=1)\n",
    "    # enumerate folds\n",
    "    for train_ix, test_ix in cv.split(X):\n",
    "        # prepare data\n",
    "        X_train, X_test = X[train_ix], X[test_ix]\n",
    "        y_train, y_test = y[train_ix], y[test_ix]\n",
    "        # define model\n",
    "        model = get_model(n_inputs, n_outputs)\n",
    "        # fit model\n",
    "        model.fit(X_train, y_train, verbose=0, epochs=100)\n",
    "        # evaluate model on test set\n",
    "        mae = model.evaluate(X_test, y_test, verbose=0)\n",
    "        if X_valid is None: \n",
    "            mae_valid = nan\n",
    "        else:\n",
    "            mae_valid = model.evaluate(X_valid, y_valid, verbose=0)\n",
    "        # store result\n",
    "        print('>%.3f =%.3f' % (mae, mae_valid))\n",
    "        results.append(mae)\n",
    "    return results, model\n",
    " \n",
    "# load dataset\n",
    "info, y, X = get_dataset(inputfile = 'data/features_onebody_all.csv', sep = \",\")\n",
    "Xtest, Xtrain = filter_row(info, X, column_value = '1ANR', column = 'ID')\n",
    "ytest, ytrain = filter_row(info, y, column_value = '1ANR', column = 'ID')\n",
    "\n",
    "# evaluate model\n",
    "results, model = evaluate_model(Xtrain.values, ytrain.values, Xtest.values, ytest.values)\n",
    "\n",
    "# summarize performance\n",
    "print('MAE: %.3f (%.3f)' % (mean(results), std(results)))\n",
    "\n",
    "# apply to held out test\n",
    "mae = model.evaluate(Xtest.values, ytest.values, verbose=0)\n",
    "print('%s: %.3f' % ('1ANR', mae))"
   ]
  },
  {
   "cell_type": "code",
   "execution_count": 45,
   "metadata": {},
   "outputs": [
    {
     "data": {
      "image/png": "[encoded data removed]",
      "text/plain": [
       "<Figure size 432x288 with 2 Axes>"
      ]
     },
     "metadata": {},
     "output_type": "display_data"
    }
   ],
   "source": [
    "%matplotlib inline\n",
    "import matplotlib.pyplot as plt\n",
    "from numpy import abs\n",
    "plt.style.use('seaborn-whitegrid')\n",
    "import numpy as np\n",
    "#https://jakevdp.github.io/PythonDataScienceHandbook/04.02-simple-scatter-plots.html\n",
    "\n",
    "\n",
    "ypred = model.predict(Xtest.values)\n",
    "\n",
    "i=2\n",
    "x = ytest.values[:, i]\n",
    "y = ypred[:, i]\n",
    "colors = abs(x-y)\n",
    "sizes = colors\n",
    "\n",
    "plt.scatter(x, y, c=colors, s=sizes, alpha=0.3,\n",
    "            cmap='viridis')\n",
    "plt.colorbar();  # show color scale"
   ]
  },
  {
   "cell_type": "code",
   "execution_count": 46,
   "metadata": {},
   "outputs": [
    {
     "data": {
      "text/plain": [
       "array([-79.624, -52.465, -56.257, -44.55 , -64.344, -64.08 , -68.809,\n",
       "       -61.156, -61.57 , -16.081, -79.501, -49.903, -70.144, -46.945,\n",
       "       -59.579, -55.335, -82.547, -54.148, -61.898, -13.588, -83.369,\n",
       "       -54.887, -52.858, -72.798, -69.898, -62.715, -79.864, -55.882,\n",
       "       -57.039, -17.493, -82.221, -54.503, -48.054, -59.576, -80.103,\n",
       "       -57.595, -67.745, -68.426, -63.411, -16.082, -75.898, -52.494,\n",
       "       -44.805, -48.268, -65.356, -86.821, -71.055, -59.7  , -63.142,\n",
       "       -15.568, -90.064, -26.843, -65.549, -66.488, -76.614, -84.421,\n",
       "       -70.631, -73.228, -54.943, -13.443])"
      ]
     },
     "execution_count": 46,
     "metadata": {},
     "output_type": "execute_result"
    }
   ],
   "source": [
    "x"
   ]
  }
 ],
 "metadata": {
  "kernelspec": {
   "display_name": "Python 3",
   "language": "python",
   "name": "python3"
  },
  "language_info": {
   "codemirror_mode": {
    "name": "ipython",
    "version": 3
   },
   "file_extension": ".py",
   "mimetype": "text/x-python",
   "name": "python",
   "nbconvert_exporter": "python",
   "pygments_lexer": "ipython3",
   "version": "3.7.9"
  }
 },
 "nbformat": 4,
 "nbformat_minor": 4
}
