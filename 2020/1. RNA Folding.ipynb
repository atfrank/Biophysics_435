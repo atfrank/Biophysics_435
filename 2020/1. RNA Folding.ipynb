{
 "cells": [
  {
   "cell_type": "markdown",
   "metadata": {},
   "source": [
    "# Instructions"
   ]
  },
  {
   "cell_type": "markdown",
   "metadata": {},
   "source": [
    "* **The Goal**:\n",
    "    * Complete code to fold the UUCG-tetraloop RNA (PDB: 2KOC), which has the sequence = 'GGCACUUCGGUGCC' and the P2a-J2a/b-P2b of human telomerase RNA (PDB: 2L3E), which has a sequence = 'GGCUUUUGCUCCCCGUGCUUCGGCACGGAAAAGCC' using simulated annealing.\n",
    "\n",
    "\n",
    "\n",
    "* **Simulation**:\n",
    "    1. Inspect the annealing_assignment.py and identify regions with the 'pass' statement.\n",
    "    2. Added needed code. **The code you will need to add are essentially calls to functions defined in PyRNA.py. It is your job to figure out which functions to use.**\n",
    "    3. Modify the simulated_annealing() function in annealing_assignment.py so that: \n",
    "        1. at each step cooling step, you can execute a number 'equilibration steps', i.e., a set of random moves (perturbations) at the given value of the distribution parameter.\n",
    "        2. after each iteration the current state is saved to a list, by appending the state objects to the list.\n",
    "    4. Run the simulation in this 'RNA_folding_assignment.ipynb' file.\n",
    "   \n",
    "\n",
    "\n",
    "\n",
    "* **Visualization**:\n",
    "    * Using the states after each iteration to compute and visualize the base-pair probability matrix for each RNA based the results of 500 iterations.\n",
    "\n",
    "\n",
    "\n",
    "* **Question**:\n",
    "    * Are you result consistent with the solved NMR structures? You can access the secondary structures  using the PDB IDs using RNApdbee: http://rnapdbee.cs.put.poznan.pl/\n",
    "    * **Answer this question in comment at the end of this 'RNA_folding_assignment.ipynb' file.**\n",
    "\n",
    "\n",
    "\n",
    "* **How to submit**:\n",
    "    * **Please rename this file as 'RNA_folding_assignment_firstname_lastname.ipynb' before you submit it to canvas.**\n",
    "   \n"
   ]
  },
  {
   "cell_type": "code",
   "execution_count": null,
   "metadata": {},
   "outputs": [],
   "source": [
    "import network_line_graph as nlg"
   ]
  },
  {
   "cell_type": "code",
   "execution_count": null,
   "metadata": {},
   "outputs": [],
   "source": [
    "from annealing import *\n",
    "from PyRNA import *\n",
    "\n",
    "# dictionary to store results\n",
    "results = {}"
   ]
  },
  {
   "cell_type": "markdown",
   "metadata": {},
   "source": [
    "## HIV-1 TAR"
   ]
  },
  {
   "cell_type": "code",
   "execution_count": null,
   "metadata": {},
   "outputs": [],
   "source": [
    "results['TAR'] = {}\n",
    "results['TAR']['bp'], results['tetraloop']['ct'] = bp, ct = CT2basepair_matrix(\"2KOC.ct\")\n",
    "results['TAR']['states'] = simulated_annealing(initial_state = initialize_RNA(sequence = 'GGCACUUCGGUGCC', G_HB = -1.89, G_stack = -1.0),\n",
    "                    iterations=100,\n",
    "                    cooling_rate = 0.95,\n",
    "                    cooling_steps = 1000,\n",
    "                    equilibration_steps = 20,\n",
    "                    distribution_parameter = 10.0,\n",
    "                    temperature = 300*0.001985875,\n",
    "                    debug=False,                     \n",
    "                    system = \"RNA\")"
   ]
  },
  {
   "cell_type": "markdown",
   "metadata": {},
   "source": [
    "## UUCG tetraloop"
   ]
  },
  {
   "cell_type": "code",
   "execution_count": null,
   "metadata": {},
   "outputs": [],
   "source": [
    "results['tetraloop'] = {}\n",
    "results['tetraloop']['bp'], results['tetraloop']['ct'] = bp, ct = CT2basepair_matrix(\"2KOC.ct\")\n",
    "results['tetraloop']['states'] = simulated_annealing(initial_state = initialize_RNA(sequence = 'GGCACUUCGGUGCC', G_HB = -1.89, G_stack = -1.0),\n",
    "                    iterations=100,\n",
    "                    cooling_rate = 0.95,\n",
    "                    cooling_steps = 1000,\n",
    "                    equilibration_steps = 20,\n",
    "                    distribution_parameter = 10.0,\n",
    "                    temperature = 300*0.001985875,\n",
    "                    debug=False,                     \n",
    "                    system = \"RNA\")"
   ]
  },
  {
   "cell_type": "markdown",
   "metadata": {},
   "source": [
    "## P2a-J2a/b-P2b of human telomerase RNA"
   ]
  },
  {
   "cell_type": "code",
   "execution_count": null,
   "metadata": {},
   "outputs": [],
   "source": [
    "results['telomerase'] = {}\n",
    "results['telomerase']['bp'], results['tetraloop']['ct'] = bp, ct = CT2basepair_matrix(\"2L3E.ct\")\n",
    "results['telomerase']['states'] = simulated_annealing(initial_state = initialize_RNA(sequence = 'GGCUUUUGCUCCCCGUGCUUCGGCACGGAAAAGCC', G_HB = -1.89, G_stack = -1.0),\n",
    "                    iterations=100,\n",
    "                    cooling_rate = 0.95,\n",
    "                    cooling_steps = 2000,\n",
    "                    equilibration_steps = 20,\n",
    "                    distribution_parameter = 10.0,\n",
    "                    temperature = 300*0.001985875,\n",
    "                    debug=False,                     \n",
    "                    system = \"RNA\")"
   ]
  },
  {
   "cell_type": "markdown",
   "metadata": {},
   "source": [
    "## Answers"
   ]
  },
  {
   "cell_type": "markdown",
   "metadata": {},
   "source": [
    "### Visualizating Average Base-pairs"
   ]
  },
  {
   "cell_type": "markdown",
   "metadata": {},
   "source": [
    "#### Defining functions to compute base-pair from the list of states"
   ]
  },
  {
   "cell_type": "code",
   "execution_count": null,
   "metadata": {},
   "outputs": [],
   "source": [
    "def states2averaged_base_matrix(states):\n",
    "    \"\"\" Generates averaged base-paired matrix for list of states \"\"\"\n",
    "    bp_matrix = None\n",
    "    nstates = len(states)\n",
    "    for i in range(nstates):\n",
    "        state = states[i]\n",
    "        tmp = stem2basepair_matrix(state['sequence'], state['assembled_stems'], state['stems_s1'], state['stems_s2'])\n",
    "        if bp_matrix is None:\n",
    "            bp_matrix = tmp\n",
    "        else:\n",
    "            bp_matrix += tmp\n",
    "    return(bp_matrix/nstates)\n",
    " "
   ]
  },
  {
   "cell_type": "code",
   "execution_count": null,
   "metadata": {},
   "outputs": [],
   "source": [
    "results['tetraloop']['bp']"
   ]
  },
  {
   "cell_type": "markdown",
   "metadata": {},
   "source": [
    "#### Tetraloop"
   ]
  },
  {
   "cell_type": "code",
   "execution_count": null,
   "metadata": {},
   "outputs": [],
   "source": [
    "visualize_structure(states2averaged_base_matrix(results['tetraloop']['states']), label = \"Average\")\n",
    "visualize_structure(results['tetraloop']['bp'], label = \"Acutal\")"
   ]
  },
  {
   "cell_type": "markdown",
   "metadata": {},
   "source": [
    "#### Telomerase"
   ]
  },
  {
   "cell_type": "code",
   "execution_count": null,
   "metadata": {},
   "outputs": [],
   "source": [
    "visualize_structure(states2averaged_base_matrix(results['telomerase']['states']), label = \"Average\")\n",
    "visualize_structure(results['telomerase']['bp'], label = \"Acutal\")"
   ]
  }
 ],
 "metadata": {
  "kernelspec": {
   "display_name": "Python 3",
   "language": "python",
   "name": "python3"
  },
  "language_info": {
   "codemirror_mode": {
    "name": "ipython",
    "version": 3
   },
   "file_extension": ".py",
   "mimetype": "text/x-python",
   "name": "python",
   "nbconvert_exporter": "python",
   "pygments_lexer": "ipython3",
   "version": "3.7.9"
  }
 },
 "nbformat": 4,
 "nbformat_minor": 4
}
