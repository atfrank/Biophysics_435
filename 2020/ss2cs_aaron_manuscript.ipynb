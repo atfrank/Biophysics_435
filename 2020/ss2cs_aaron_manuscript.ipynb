{
 "cells": [
  {
   "cell_type": "markdown",
   "metadata": {
    "colab_type": "text",
    "id": "view-in-github"
   },
   "source": [
    "<a href=\"https://colab.research.google.com/github/atfrank/ss2cs/blob/Kexin-thesis/ss2cs_aaron_manuscript.ipynb\" target=\"_parent\"><img src=\"https://colab.research.google.com/assets/colab-badge.svg\" alt=\"Open In Colab\"/></a>"
   ]
  },
  {
   "cell_type": "markdown",
   "metadata": {
    "colab_type": "text",
    "id": "s4aWg6F4_n2b"
   },
   "source": [
    "Problems I found when I worked on this project: </br>\n",
    "\n",
    "\n",
    "1.   Chemical shifts in chemical-shifts-correction repo are different from cs2bps project;</br>\n",
    "    I investigated on gollum for 5KH8 and 5A17, confirming that CS2Structure folder and cs2bps chemical shifts were correct and the warning I got during reference correction was due to R version.\n",
    "2.   Several rnas like 2LU0 have multiple values for same atoms; -> check if other RNAs have same issues.\n",
    "3.   Non-argument warning during chemical shifts reference correction -> R version;\n",
    "4.   cs_data in gollum are not corrected!!!\n"
   ]
  },
  {
   "cell_type": "code",
   "execution_count": null,
   "metadata": {
    "colab": {
     "base_uri": "https://localhost:8080/",
     "height": 34
    },
    "colab_type": "code",
    "id": "tF-tFPoXITmE",
    "outputId": "d3d52e2c-f203-46ef-b0c2-ec62c213edf4"
   },
   "outputs": [
    {
     "name": "stdout",
     "output_type": "stream",
     "text": [
      "Mounted at /content/drive\n"
     ]
    }
   ],
   "source": [
    "import os.path\n",
    "import sys\n",
    "import numpy as np\n",
    "import pandas as pd\n",
    "from google.colab import files\n",
    "from google.colab import drive\n",
    "drive.mount('/content/drive', force_remount=True)"
   ]
  },
  {
   "cell_type": "code",
   "execution_count": null,
   "metadata": {
    "colab": {
     "base_uri": "https://localhost:8080/",
     "height": 52
    },
    "colab_type": "code",
    "id": "k6-QhyauFFJ4",
    "outputId": "14cb1c6b-ba2f-468b-c847-579921a88495"
   },
   "outputs": [
    {
     "data": {
      "application/vnd.google.colaboratory.intrinsic+json": {
       "type": "string"
      },
      "text/plain": [
       "'\\ndef correct_chemical_shifts_offset(expcs, rna):\\n  if rna in [\"2MNC\",\"2NC0\",\"2NC1\",\"5UZT\",\"2NBY\",\"2NBZ\"]:\\n    newResId = 0\\n    for oldResId in expcs.resid.unique():\\n      newResId = newResId+1\\n      expcs.loc[expcs.resid==oldResId,\\'resid\\'] = newResId\\n  return expcs\\n'"
      ]
     },
     "execution_count": 3,
     "metadata": {
      "tags": []
     },
     "output_type": "execute_result"
    }
   ],
   "source": [
    "def get_resname_int(resname):\n",
    "    if resname == 'A' or resname == 'ADE':\n",
    "        return 1\n",
    "    elif resname == 'G' or resname == 'GUA':\n",
    "        return 2\n",
    "    elif resname == 'C' or resname == 'CYT':\n",
    "        return 3\n",
    "    elif resname == 'U' or resname == 'URA':\n",
    "        return 4\n",
    "\n",
    "def get_resname_char(resname):\n",
    "    if resname == 1:\n",
    "        return 'ADE'\n",
    "    elif resname == 2:\n",
    "        return 'GUA'\n",
    "    elif resname == 3:\n",
    "        return 'CYT'\n",
    "    elif resname == 4:\n",
    "        return 'URA'\n",
    "\n",
    "def extractCT(ct_path,rna):\n",
    "    # function to extract features from DSSR annotated secondary structure (.ct)\n",
    "    df = pd.read_csv(ct_path, delim_whitespace=True,header=None,skiprows=1)\n",
    "    length = len(df)\n",
    "    df.columns = ['resid','resname','i_minus_1','i_plus_1','i_bp','resid2']\n",
    "\n",
    "    #residue name of residue i\n",
    "    i_resname = df['resname'].apply(lambda x: get_resname_int(x)) # Series\n",
    "    i_resname_char = df['resname'].apply(lambda x: get_resname_char(get_resname_int(x))) \n",
    "\n",
    "    #residue that base paired to i is (resname instead of resid):\n",
    "    i_bp = df['i_bp']\n",
    "    i_bp_resname = []\n",
    "    for i in range(length):\n",
    "      if i_bp[i] == 0:\n",
    "        i_bp_resname.append(0)\n",
    "      else:\n",
    "        i_bp_resname.append(get_resname_int(df[df['resid']==i_bp[i]]['resname'].values[0]))\n",
    "    i_bp_resname = pd.Series(i_bp_resname)\n",
    "\n",
    "    #residue that base paired to i-1 is:\n",
    "    i_minus_1_bp = df['i_bp'].values.tolist()\n",
    "    i_minus_1_bp = [0]+i_minus_1_bp # add 0 at the begining\n",
    "    i_minus_1_bp.pop() # delete last element\n",
    "    i_minus_1_bp_resname = []\n",
    "    for i in range(length):\n",
    "      if i_minus_1_bp[i] == 0:\n",
    "        i_minus_1_bp_resname.append(0)\n",
    "      else:\n",
    "        i_minus_1_bp_resname.append(get_resname_int(df[df['resid']==i_minus_1_bp[i]]['resname'].values[0]))\n",
    "    i_minus_1_bp_resname = pd.Series(i_minus_1_bp_resname)\n",
    "\n",
    "    #residue that base paired to i+1 is:\n",
    "    i_plus_1_bp = df['i_bp'].values.tolist()\n",
    "    i_plus_1_bp = i_plus_1_bp+[0] # add 0 at the end\n",
    "    i_plus_1_bp.pop(0) # delete last element\n",
    "    i_plus_1_bp_resname = []\n",
    "    for i in range(length):\n",
    "      if i_plus_1_bp[i] == 0:\n",
    "        i_plus_1_bp_resname.append(0)\n",
    "      else:\n",
    "        i_plus_1_bp_resname.append(get_resname_int(df[df['resid']==i_plus_1_bp[i]]['resname'].values[0]))\n",
    "    i_plus_1_bp_resname = pd.Series(i_plus_1_bp_resname)\n",
    "\n",
    "    #residue name of i-1\n",
    "    i_minus_1_resname = i_resname.values.tolist()\n",
    "    i_minus_1_resname = [0] + i_minus_1_resname\n",
    "    i_minus_1_resname.pop()\n",
    "    i_minus_1_resname = pd.Series(i_minus_1_resname)\n",
    "\n",
    "    #residue name of i+1\n",
    "    i_plus_1_resname = i_resname.values.tolist()\n",
    "    i_plus_1_resname = i_plus_1_resname+[0]\n",
    "    i_plus_1_resname.pop(0)\n",
    "    i_plus_1_resname = pd.Series(i_plus_1_resname) \n",
    "\n",
    "    #the previous residue of the residue base paired to i: i_bp_minus_1\n",
    "    i_bp_minus_1 = list(map(lambda x: x-1, i_bp.values.tolist()))\n",
    "    i_bp_minus_1_resname = []\n",
    "    for i in range(length):\n",
    "      if i_bp_minus_1[i]==-1 or i_bp_minus_1[i]==0:\n",
    "        i_bp_minus_1_resname.append(0)\n",
    "      else:\n",
    "        i_bp_minus_1_resname.append(get_resname_int(df[df['resid']==i_bp_minus_1[i]]['resname'].values[0]))\n",
    "    i_bp_minus_1_resname = pd.Series(i_bp_minus_1_resname)\n",
    "\n",
    "    #the next residue of the residue base paired to i: i_bp_plus_1\n",
    "    i_bp_plus_1 = list(map(lambda x: x+1, i_bp.values.tolist()))\n",
    "    i_bp_plus_1_resname = []\n",
    "    for i in range(length):\n",
    "      if i_bp_plus_1[i]==1 or i_bp_plus_1[i]==(length+1):\n",
    "        i_bp_plus_1_resname.append(0)\n",
    "      else:\n",
    "        i_bp_plus_1_resname.append(get_resname_int(df[df['resid']==i_bp_plus_1[i]]['resname'].values[0]))  \n",
    "    i_bp_plus_1_resname = pd.Series(i_bp_plus_1_resname)\n",
    "\n",
    "    #i_bp_prev_bp\n",
    "    i_bp_minus_1_bp_resname = []\n",
    "    for i in range(length):\n",
    "      if i_bp_minus_1[i]==-1 or i_bp_minus_1[i]==0:\n",
    "        i_bp_minus_1_bp_resname.append(0)\n",
    "      else:\n",
    "        i_bp_minus_1_bp = df[df['resid']==i_bp_minus_1[i]]['i_bp'].values[0]\n",
    "        if i_bp_minus_1_bp == 0:\n",
    "          i_bp_minus_1_bp_resname.append(0)\n",
    "        else:\n",
    "          i_bp_minus_1_bp_resname.append(get_resname_int(df[df['resid']==i_bp_minus_1_bp]['resname'].values[0]))\n",
    "    i_bp_minus_1_bp_resname = pd.Series(i_bp_minus_1_bp_resname)\n",
    "\n",
    "    #i_bp_next_bp\n",
    "    i_bp_plus_1_bp_resname = []\n",
    "    for i in range(length):\n",
    "      if i_bp_plus_1[i]==1 or i_bp_plus_1[i]==(length+1):\n",
    "        i_bp_plus_1_bp_resname.append(0)\n",
    "      else:\n",
    "        i_bp_plus_1_bp = df[df['resid']==i_bp_plus_1[i]]['i_bp'].values[0]\n",
    "        if i_bp_plus_1_bp == 0:\n",
    "          i_bp_plus_1_bp_resname.append(0)\n",
    "        else:\n",
    "          i_bp_plus_1_bp_resname.append(get_resname_int(df[df['resid']==i_bp_plus_1_bp]['resname'].values[0]))  \n",
    "    i_bp_plus_1_bp_resname = pd.Series(i_bp_plus_1_bp_resname) \n",
    "\n",
    "    # create other information as Series\n",
    "    rnaid = pd.Series([rna]*length)\n",
    "    total_length = pd.Series([length]*length)\n",
    "    resid = df['resid']\n",
    "    resname = df['resname']\n",
    "\n",
    "    #print(features)\n",
    "    features = pd.concat([rnaid, total_length, resid, resname, i_resname, i_minus_1_resname,\n",
    "    i_plus_1_resname, i_bp_resname, i_minus_1_bp_resname, i_plus_1_bp_resname, i_bp_minus_1_resname,\n",
    "    i_bp_plus_1_resname, i_bp_minus_1_bp_resname, i_bp_plus_1_bp_resname], axis=1)\n",
    "    features.columns = [\"id\",\"length\",\"resid\",\"i_resname_char\",\"i_resname\",\"i_minus_1_resname\",\"i_plus_1_resname\",\n",
    "                        \"i_bp_resname\", \"i_minus_1_bp_resname\", \"i_plus_1_bp_resname\", \"i_bp_minus_1_resname\",\n",
    "                        \"i_bp_plus_1_resname\", \"i_bp_minus_1_bp_resname\", \"i_bp_plus_1_bp_resname\"]\n",
    "    return features\n",
    "\n",
    "def rename_nucleus_type(nucleus):\n",
    "  if \"'\" in nucleus:\n",
    "    return nucleus.replace(\"'\",\"p\")\n",
    "  else:\n",
    "    return nucleus\n",
    "    \n",
    "\"\"\"\n",
    "def correct_chemical_shifts_offset(expcs, rna):\n",
    "  if rna in [\"2MNC\",\"2NC0\",\"2NC1\",\"5UZT\",\"2NBY\",\"2NBZ\"]:\n",
    "    newResId = 0\n",
    "    for oldResId in expcs.resid.unique():\n",
    "      newResId = newResId+1\n",
    "      expcs.loc[expcs.resid==oldResId,'resid'] = newResId\n",
    "  return expcs\n",
    "\"\"\"\n",
    "  "
   ]
  },
  {
   "cell_type": "markdown",
   "metadata": {
    "colab_type": "text",
    "id": "izzIyBgi9W26"
   },
   "source": [
    "# Prepare input"
   ]
  },
  {
   "cell_type": "markdown",
   "metadata": {
    "colab_type": "text",
    "id": "6Fj0IETGIXbL"
   },
   "source": [
    "## Prepare secondary structure data"
   ]
  },
  {
   "cell_type": "code",
   "execution_count": null,
   "metadata": {
    "colab": {},
    "colab_type": "code",
    "id": "MLgbhnUKIXB7"
   },
   "outputs": [],
   "source": [
    "rnas = ['1A60', '1HWQ', '1JO7', '1KKA', '1L1W', '1LC6', '1LDZ', '1MFY', '1NA2',\n",
    "'1NC0', '1OW9', '1PJY', '1Q75', '1R7W', '1R7Z', '1SCL', '1SY4', '1SYZ', '1UUU',\n",
    "'1XHP', '1YMO', '1YSV', '1Z2J', '1Z30', '1ZC5', '28SP', '28SR', '2F87', '2FDT',\n",
    "'2GVO', '2JR4', '2JTP', '2JWV', '2JYM', '2K66', '2KEZ', '2KF0', '2KOC', '2KXM',\n",
    "'2KZL', '2L3E', '2L5Z', '2L6I', '2L8H', '2LAC', '2LBJ', '2LBK', '2LBL', '2LDL',\n",
    "'2LDT', '2LHP', '2LI4', '2LJJ', '2LK3', '2LP9', '2LPA', '2LPS', '2LQZ', '2LU0',\n",
    "'2LUB', '2LUN', '2LV0', '2M12', '2M21', '2M22', '2M4W', '2M5U', '2M8K', '2MEQ', \n",
    "'2MFD', '2MHI', '2MIS', '2MNC', '2MTJ', '2MXL', '2N1Q', '2N2O', '2N2P', '2N3Q', \n",
    "'2N3R', '2N4L', '2N6S', '2N6T', '2N6W', '2N6X', '2NBY', '2NBZ', '2NC0', '2NC1', \n",
    "'2NCI', '2O33', '2QH2', '2QH3', '2QH4', '2RVO', '2Y95', '4A4S', '4A4T', '4A4U', \n",
    "'5A17', '5A18', '5IEM', '5KH8', '5KQE', '5UF3', '5UZT', '5V16', '5WQ1']"
   ]
  },
  {
   "cell_type": "code",
   "execution_count": null,
   "metadata": {
    "colab": {},
    "colab_type": "code",
    "id": "H2Z6q_2sIzVZ"
   },
   "outputs": [],
   "source": [
    "# featurize\n",
    "DIR_PATH = 'drive/My Drive/RESEARCH/ss2cs/'\n",
    "train_X = pd.DataFrame([])\n",
    "for rna in rnas:\n",
    "    features = extractCT(DIR_PATH + 'info/' + rna + '.ct',rna)\n",
    "    train_X = pd.concat([train_X, features],ignore_index=True)\n",
    "\n",
    "train_X.drop('i_resname_char', axis = 1, inplace=True)"
   ]
  },
  {
   "cell_type": "code",
   "execution_count": null,
   "metadata": {
    "colab": {},
    "colab_type": "code",
    "id": "vFwP9BBN8_82"
   },
   "outputs": [],
   "source": [
    "# save output\n",
    "train_X.to_csv(DIR_PATH+'data/train_X_NEW.csv',sep=' ',header=True, index=False)\n",
    "#files.download(DIR_PATH+'data/train_X.csv') # save to local GitHub repo"
   ]
  },
  {
   "cell_type": "markdown",
   "metadata": {
    "colab_type": "text",
    "id": "Z0UTo3Cb078E"
   },
   "source": [
    "## Prepare chemical shifts"
   ]
  },
  {
   "cell_type": "code",
   "execution_count": null,
   "metadata": {
    "colab": {},
    "colab_type": "code",
    "id": "OrV3GXUl0_Qb"
   },
   "outputs": [],
   "source": [
    "cs = pd.DataFrame([])\n",
    "for rna in rnas:\n",
    "  expcs = pd.read_csv(DIR_PATH+\"info/corrected_chemical_shifts/measured_shifts_\"+rna+\".dat\", header=None, delim_whitespace=True)\n",
    "  expcs.columns = ['resname','resid','nucleus','expcs','error']\n",
    "  expcs.drop_duplicates(inplace=True)\n",
    "  #if rna in [\"2MNC\",\"2NBY\",\"2NBZ\",\"2NC0\",\"2NC1\",\"5UZT\"]:  \n",
    "   # correct_chemical_shifts_offset(expcs, rna)\n",
    "  # DEBUG\n",
    "  expcs.sort_values(by=['resid'], inplace=True)\n",
    "  expcs.reset_index(inplace=True,drop=True)\n",
    "  #if expcs.resid[0]!=1:\n",
    "  #  print(rna)\n",
    "  expcs['id'] = rna\n",
    "  cs = pd.concat([cs, expcs], ignore_index=True)\n",
    "\n",
    "# remove 5 RNAs whose measured chemical shifts contain ambigous values\n",
    "indexNames = cs[(cs.id ==\"1R7W\") | (cs.id==\"1R7Z\") | (cs.id==\"1Z30\") | (cs.id==\"2LK3\") | (cs.id==\"2LU0\") | (cs.id==\"5KH8\")].index\n",
    "cs.drop(indexNames , inplace=True,index=None)\n",
    "\n",
    "cs.to_csv(DIR_PATH+'data/cs_all_NEW.info',sep=' ',header=True,index=False)\n",
    "#files.download(DIR_PATH+'data/cs_all.info') # save to local GitHub repo"
   ]
  },
  {
   "cell_type": "markdown",
   "metadata": {
    "colab_type": "text",
    "id": "7vcZwcb9Cpd0"
   },
   "source": [
    "Some chemical shifts had offset issues </br>\n",
    "2LDL: check, do nothing </br>\n",
    "2MNC: expcs 8-23, ss 1-16; has all residues, directly offset to 1-16 </br> \n",
    "2MXL: check, do nothing </br>\n",
    "2NBY: expcs 693-730, ss 1-39; missing last one, offset to 1 </br> \n",
    "2NBZ: expcs 730-768, ss 1-40; missing last one, offset to 1 </br>\n",
    "2NC0: expcs 681-786, ss 1-28; has all residues, directly offset to 1-28 </br> \n",
    "2NC1: expcs 680-787, ss 1-67; has all residues, directly offset to 1-67 </br>\n",
    "5UZT: expcs 22-52, ss 1-31; has all residues, directly offset to 1-31 </br>"
   ]
  },
  {
   "cell_type": "markdown",
   "metadata": {
    "colab_type": "text",
    "id": "Dm26CFYaHGxb"
   },
   "source": [
    "## Combine structure features and chemical shifts for each nucleus type"
   ]
  },
  {
   "cell_type": "code",
   "execution_count": null,
   "metadata": {
    "colab": {},
    "colab_type": "code",
    "id": "YkdxYb3WVm7B"
   },
   "outputs": [],
   "source": [
    "nuclei = [\"C1'\", \"C2'\", \"C3'\", \"C4'\", \"C5'\",\"C2\",\"C5\",\"C6\",\"C8\",\n",
    "          \"H1'\", \"H2'\", \"H3'\",\"H4'\", \"H5'\",\"H5''\",\"H2\",\"H5\",\"H6\",\"H8\"]\n",
    "train_X = pd.read_csv(DIR_PATH+\"data/train_X_NEW.csv\", delim_whitespace=True, header=0)\n",
    "for nucleus in nuclei:\n",
    "  cs_selected = cs[cs.nucleus == nucleus]\n",
    "  #set(train_X.columns).intersection(set(cs_selected.columns)) \n",
    "  df_combined = pd.merge(train_X, cs_selected)\n",
    "  df_combined.drop(['resid','resname','nucleus','error'],axis=1,inplace=True)\n",
    "  nucleus_renamed = rename_nucleus_type(nucleus)\n",
    "  df_combined.to_csv(DIR_PATH+'data/'+nucleus_renamed+'.csv',sep=' ',header=True, index=False)"
   ]
  },
  {
   "cell_type": "code",
   "execution_count": null,
   "metadata": {
    "colab": {
     "base_uri": "https://localhost:8080/",
     "height": 663
    },
    "colab_type": "code",
    "id": "QhAYDTTunU_O",
    "outputId": "69a579bb-4f5a-4675-a997-d9144724c732"
   },
   "outputs": [
    {
     "name": "stdout",
     "output_type": "stream",
     "text": [
      "C1'\n",
      "(1834, 13)\n",
      "C2'\n",
      "(1625, 13)\n",
      "C3'\n",
      "(1520, 13)\n",
      "C4'\n",
      "(1486, 13)\n",
      "C5'\n",
      "(1245, 13)\n",
      "C2\n",
      "(572, 13)\n",
      "C5\n",
      "(973, 13)\n",
      "C6\n",
      "(998, 13)\n",
      "C8\n",
      "(1086, 13)\n",
      "H1'\n",
      "(3106, 13)\n",
      "H2'\n",
      "(2925, 13)\n",
      "H3'\n",
      "(2481, 13)\n",
      "H4'\n",
      "(2039, 13)\n",
      "H5'\n",
      "(1637, 13)\n",
      "H5''\n",
      "(1608, 13)\n",
      "H2\n",
      "(695, 13)\n",
      "H5\n",
      "(1451, 13)\n",
      "H6\n",
      "(1521, 13)\n",
      "H8\n",
      "(1621, 13)\n"
     ]
    }
   ],
   "source": [
    "for nucleus in nuclei:\n",
    "  print(nucleus)\n",
    "  df = pd.read_csv(DIR_PATH+'data/'+nucleus.replace(\"'\",\"p\")+'.csv',delim_whitespace=True,header=0)\n",
    "  print(df.shape)"
   ]
  },
  {
   "cell_type": "markdown",
   "metadata": {
    "colab_type": "text",
    "id": "TTOyPKrSBFh5"
   },
   "source": [
    "check diff:</br>  only for H1'\n",
    "1R7W</br> \n",
    "1R7Z</br> \n",
    "1Z30</br> \n",
    "2LK3</br> \n",
    "2LU0</br> \n",
    "Chemical shifts for these RNAs contain multiple values for same atom, so they are excluded from training set for now."
   ]
  },
  {
   "cell_type": "markdown",
   "metadata": {
    "colab_type": "text",
    "id": "9GxLhUJxF3e8"
   },
   "source": [
    "# Train models"
   ]
  },
  {
   "cell_type": "code",
   "execution_count": null,
   "metadata": {
    "colab": {
     "base_uri": "https://localhost:8080/",
     "height": 71
    },
    "colab_type": "code",
    "id": "DTP-71EZF5_v",
    "outputId": "dc137aa5-f38a-406d-b9f2-ab589ac80905"
   },
   "outputs": [
    {
     "name": "stderr",
     "output_type": "stream",
     "text": [
      "/usr/local/lib/python3.6/dist-packages/sklearn/externals/joblib/__init__.py:15: FutureWarning: sklearn.externals.joblib is deprecated in 0.21 and will be removed in 0.23. Please import this functionality directly from joblib, which can be installed with: pip install joblib. If this warning is raised when loading pickled models, you may need to re-serialize those models with scikit-learn 0.21+.\n",
      "  warnings.warn(msg, category=FutureWarning)\n"
     ]
    }
   ],
   "source": [
    "from sklearn import preprocessing\n",
    "from sklearn.model_selection import train_test_split\n",
    "from sklearn import metrics\n",
    "from sklearn.model_selection import GridSearchCV\n",
    "from pprint import pprint\n",
    "from sklearn.externals import joblib\n",
    "import pickle\n",
    "from sklearn.linear_model import LinearRegression\n",
    "from sklearn.linear_model import Ridge\n",
    "from sklearn.svm import LinearSVR\n",
    "from sklearn.svm import SVR\n",
    "from sklearn.ensemble import RandomForestRegressor\n",
    "from sklearn.ensemble import ExtraTreesRegressor\n",
    "from sklearn.ensemble import GradientBoostingRegressor\n",
    "from sklearn.pipeline import Pipeline\n",
    "from sklearn.model_selection import cross_val_score\n",
    "from sklearn.metrics import mean_absolute_error"
   ]
  },
  {
   "cell_type": "code",
   "execution_count": null,
   "metadata": {
    "colab": {},
    "colab_type": "code",
    "id": "bzewgYAhHDXj"
   },
   "outputs": [],
   "source": [
    "def evaluate(nucleus, model, test_features, test_labels):\n",
    "    predictions = model.predict(test_features)\n",
    "    errors = abs(predictions - test_labels)\n",
    "    #print('Model Performance', file=f)  \n",
    "    print('MAE for '+nucleus+': {:0.4f} ppm.'.format(np.mean(errors)), file = f)\n",
    "    \n",
    "def training_cv_score_model(X, y, model):\n",
    "\n",
    "    scores = cross_val_score(model,\n",
    "                             X,\n",
    "                             y.values.flatten(),\n",
    "                             scoring='neg_mean_absolute_error',\n",
    "                             cv=10)\n",
    "\n",
    "    mean_mae = scores.mean()\n",
    "    sd_mae = scores.std()\n",
    "\n",
    "    model_name = model.__class__.__name__\n",
    "\n",
    "    print(f'{model_name}, Average Score : {mean_mae} & Standard Deviation: {sd_mae}')\n",
    "    print('-'*90)\n",
    "    return [mean_mae, sd_mae]\n",
    "\n",
    "def out_of_sample_score(train_features, train_target, test_features, test_target, model):\n",
    "    \"\"\"\n",
    "    This function takes the design matrix and target vector of the validation set,\n",
    "    along with a classification estimator and\n",
    "    scores the predicted classes and true values via a balanced accuracy score.\n",
    "    This score is printed to the end user.\n",
    "    \"\"\"\n",
    "\n",
    "    model_name = model.__class__.__name__\n",
    "\n",
    "    model.fit(train_features, train_target.values.ravel())\n",
    "\n",
    "    preds = model.predict(test_features)\n",
    "    score = mean_absolute_error(y_true=test_target, y_pred=preds)\n",
    "\n",
    "    print(f'{model_name} with MAE on test set {score}')\n",
    "    print('-'*90)\n",
    "    return score"
   ]
  },
  {
   "cell_type": "markdown",
   "metadata": {
    "colab_type": "text",
    "id": "RQMvh06jFAiz"
   },
   "source": [
    "## Baseline Model Selection"
   ]
  },
  {
   "cell_type": "code",
   "execution_count": null,
   "metadata": {
    "colab": {},
    "colab_type": "code",
    "id": "lnEEvl7rE_-Y"
   },
   "outputs": [],
   "source": [
    "# set drive path\n",
    "DIR_PATH = 'drive/My Drive/RESEARCH/ss2cs/'\n",
    "# use total training data to fit one hot encoder\n",
    "train_X = pd.read_csv(DIR_PATH+'data/train_X_NEW.csv',sep=' ',header=0)\n",
    "train_X = train_X.drop(['id','length','resid'],axis = 1)\n",
    "enc = preprocessing.OneHotEncoder(sparse = False)\n",
    "enc.fit(train_X)\n",
    "\n",
    "nuclei = [\"C1'\", \"C2'\", \"C3'\", \"C4'\", \"C5'\",\"C2\",\"C5\",\"C6\",\"C8\",\n",
    "          \"H1'\", \"H2'\", \"H3'\",\"H4'\", \"H5'\",\"H5''\",\"H2\",\"H5\",\"H6\",\"H8\"]\n",
    "# estimators tested\n",
    "models = [\n",
    "      LinearRegression(),  \n",
    "      Ridge(),\n",
    "      SVR(),\n",
    "      RandomForestRegressor(),\n",
    "      ExtraTreesRegressor(),\n",
    "      GradientBoostingRegressor()\n",
    "      ]\n",
    "\n",
    "# error data frame to store result for each model and each nucleus type\n",
    "errors_val_all = pd.DataFrame([])\n",
    "errors_test_all = pd.DataFrame([])\n",
    "\n",
    "# train each nucleus\n",
    "for nucleus in nuclei:\n",
    "    train = pd.read_csv(DIR_PATH+'data/'+nucleus.replace(\"'\",\"p\")+'.csv', sep = ' ', header = 0)\n",
    "    y = train['expcs']\n",
    "    X = train.drop(['id','expcs'],axis = 1)\n",
    "    X_resname = X.drop(['length'],axis=1)\n",
    "    X_info = X['length']  #did not use rna name\n",
    "    \n",
    "    # one hot encoding\n",
    "    X_resname_enc = pd.DataFrame(enc.transform(X_resname))\n",
    "    X_enc = pd.concat([X_info, X_resname_enc],axis = 1)\n",
    "\n",
    "    # tran test split\n",
    "    X_train, X_test, y_train, y_test = train_test_split(X_enc, y, test_size = 0.2, random_state=42)\n",
    "\n",
    "    # start model selection and evluation\n",
    "    print(nucleus)\n",
    "    errors_val = []\n",
    "    errors_test = []\n",
    "    for model in models:\n",
    "      # extract model name\n",
    "      model_name = model.__class__.__name__\n",
    "\n",
    "      # train set cross validation \n",
    "      errors_val.append(training_cv_score_model(X_train, y_train, model)[0])\n",
    "\n",
    "      # test set error evaluation\n",
    "      errors_test.append(out_of_sample_score(X_train, y_train, X_test, y_test, model))\n",
    "\n",
    "    #errors_train_mae[nucleus] = errors_mae\n",
    "    #errors_train_sd[nucleus] =errors_sd\n",
    "    errors_val_all[nucleus] = errors_val\n",
    "    errors_test_all[nucleus] = errors_test"
   ]
  },
  {
   "cell_type": "code",
   "execution_count": null,
   "metadata": {
    "colab": {
     "base_uri": "https://localhost:8080/",
     "height": 1000
    },
    "colab_type": "code",
    "id": "-G4ZD_e-UKPq",
    "outputId": "c32686e7-2702-4888-e7c0-711687c7bacb"
   },
   "outputs": [
    {
     "data": {
      "text/html": [
       "<html>\n",
       "<head><meta charset=\"utf-8\" /></head>\n",
       "<body>\n",
       "    <div>\n",
       "            <script src=\"https://cdnjs.cloudflare.com/ajax/libs/mathjax/2.7.5/MathJax.js?config=TeX-AMS-MML_SVG\"></script><script type=\"text/javascript\">if (window.MathJax) {MathJax.Hub.Config({SVG: {font: \"STIX-Web\"}});}</script>\n",
       "                <script type=\"text/javascript\">window.PlotlyConfig = {MathJaxConfig: 'local'};</script>\n",
       "        <script src=\"https://cdn.plot.ly/plotly-latest.min.js\"></script>    \n",
       "            <div id=\"9981ad9e-bfde-4c5f-9334-dd90734f2bb1\" class=\"plotly-graph-div\" style=\"height:525px; width:100%;\"></div>\n",
       "            <script type=\"text/javascript\">\n",
       "                \n",
       "                    window.PLOTLYENV=window.PLOTLYENV || {};\n",
       "                    \n",
       "                if (document.getElementById(\"9981ad9e-bfde-4c5f-9334-dd90734f2bb1\")) {\n",
       "                    Plotly.newPlot(\n",
       "                        '9981ad9e-bfde-4c5f-9334-dd90734f2bb1',\n",
       "                        [{\"name\": \"Linear\", \"type\": \"scatter\", \"x\": [\"C1'\", \"C2'\", \"C3'\", \"C4'\", \"C5'\", \"C2\", \"C5\", \"C6\", \"C8\"], \"y\": [0.8475795164397063, 0.6278310250122616, 1.3611551893821527, 0.8328230154906435, 0.9861013329590806, 0.9418114446016478, 1.147528868382537, 0.7319366518741173, 0.9074077700826841]}, {\"name\": \"Ridge\", \"type\": \"scatter\", \"x\": [\"C1'\", \"C2'\", \"C3'\", \"C4'\", \"C5'\", \"C2\", \"C5\", \"C6\", \"C8\"], \"y\": [0.8463897824202723, 0.6241149916329729, 1.3590524651662355, 0.8297959295551971, 0.9824978112596199, 0.9209241425231012, 1.1101265398881408, 0.7452837649508541, 0.905301602091854]}, {\"name\": \"SVR\", \"type\": \"scatter\", \"x\": [\"C1'\", \"C2'\", \"C3'\", \"C4'\", \"C5'\", \"C2\", \"C5\", \"C6\", \"C8\"], \"y\": [0.8966290829313275, 0.6158838276843703, 1.4104162944375396, 0.8643147550981588, 1.044758990734178, 1.203078766655569, 2.9676829896088726, 1.1175000839920768, 1.4392347851493996]}, {\"name\": \"RF\", \"type\": \"scatter\", \"x\": [\"C1'\", \"C2'\", \"C3'\", \"C4'\", \"C5'\", \"C2\", \"C5\", \"C6\", \"C8\"], \"y\": [0.7798088745098285, 0.6325418063023112, 1.2541601459894074, 0.7581233106743007, 0.9465764515304244, 0.8986195886632219, 0.9725724385349075, 0.6722180046177507, 0.8665461093892887]}, {\"name\": \"ET\", \"type\": \"scatter\", \"x\": [\"C1'\", \"C2'\", \"C3'\", \"C4'\", \"C5'\", \"C2\", \"C5\", \"C6\", \"C8\"], \"y\": [0.8696688035830837, 0.6813608261538521, 1.3829579073296494, 0.8459293617006198, 1.030713725151521, 1.0705280326409183, 1.096320954087582, 0.7504670336023567, 0.9704544174558839]}, {\"name\": \"GB\", \"type\": \"scatter\", \"x\": [\"C1'\", \"C2'\", \"C3'\", \"C4'\", \"C5'\", \"C2\", \"C5\", \"C6\", \"C8\"], \"y\": [0.8030875299632589, 0.6256741119710317, 1.2715072276690156, 0.7644719623911637, 0.9441960297751866, 0.8869480268144482, 1.0258639926111677, 0.6814734479754223, 0.8557792952722023]}],\n",
       "                        {\"font\": {\"size\": 20}, \"template\": {\"data\": {\"bar\": [{\"error_x\": {\"color\": \"#2a3f5f\"}, \"error_y\": {\"color\": \"#2a3f5f\"}, \"marker\": {\"line\": {\"color\": \"white\", \"width\": 0.5}}, \"type\": \"bar\"}], \"barpolar\": [{\"marker\": {\"line\": {\"color\": \"white\", \"width\": 0.5}}, \"type\": \"barpolar\"}], \"carpet\": [{\"aaxis\": {\"endlinecolor\": \"#2a3f5f\", \"gridcolor\": \"#C8D4E3\", \"linecolor\": \"#C8D4E3\", \"minorgridcolor\": \"#C8D4E3\", \"startlinecolor\": \"#2a3f5f\"}, \"baxis\": {\"endlinecolor\": \"#2a3f5f\", \"gridcolor\": \"#C8D4E3\", \"linecolor\": \"#C8D4E3\", \"minorgridcolor\": \"#C8D4E3\", \"startlinecolor\": \"#2a3f5f\"}, \"type\": \"carpet\"}], \"choropleth\": [{\"colorbar\": {\"outlinewidth\": 0, \"ticks\": \"\"}, \"type\": \"choropleth\"}], \"contour\": [{\"colorbar\": {\"outlinewidth\": 0, \"ticks\": \"\"}, \"colorscale\": [[0.0, \"#0d0887\"], [0.1111111111111111, \"#46039f\"], [0.2222222222222222, \"#7201a8\"], [0.3333333333333333, \"#9c179e\"], [0.4444444444444444, \"#bd3786\"], [0.5555555555555556, \"#d8576b\"], [0.6666666666666666, \"#ed7953\"], [0.7777777777777778, \"#fb9f3a\"], [0.8888888888888888, \"#fdca26\"], [1.0, \"#f0f921\"]], \"type\": \"contour\"}], \"contourcarpet\": [{\"colorbar\": {\"outlinewidth\": 0, \"ticks\": \"\"}, \"type\": \"contourcarpet\"}], \"heatmap\": [{\"colorbar\": {\"outlinewidth\": 0, \"ticks\": \"\"}, \"colorscale\": [[0.0, \"#0d0887\"], [0.1111111111111111, \"#46039f\"], [0.2222222222222222, \"#7201a8\"], [0.3333333333333333, \"#9c179e\"], [0.4444444444444444, \"#bd3786\"], [0.5555555555555556, \"#d8576b\"], [0.6666666666666666, \"#ed7953\"], [0.7777777777777778, \"#fb9f3a\"], [0.8888888888888888, \"#fdca26\"], [1.0, \"#f0f921\"]], \"type\": \"heatmap\"}], \"heatmapgl\": [{\"colorbar\": {\"outlinewidth\": 0, \"ticks\": \"\"}, \"colorscale\": [[0.0, \"#0d0887\"], [0.1111111111111111, \"#46039f\"], [0.2222222222222222, \"#7201a8\"], [0.3333333333333333, \"#9c179e\"], [0.4444444444444444, \"#bd3786\"], [0.5555555555555556, \"#d8576b\"], [0.6666666666666666, \"#ed7953\"], [0.7777777777777778, \"#fb9f3a\"], [0.8888888888888888, \"#fdca26\"], [1.0, \"#f0f921\"]], \"type\": \"heatmapgl\"}], \"histogram\": [{\"marker\": {\"colorbar\": {\"outlinewidth\": 0, \"ticks\": \"\"}}, \"type\": \"histogram\"}], \"histogram2d\": [{\"colorbar\": {\"outlinewidth\": 0, \"ticks\": \"\"}, \"colorscale\": [[0.0, \"#0d0887\"], [0.1111111111111111, \"#46039f\"], [0.2222222222222222, \"#7201a8\"], [0.3333333333333333, \"#9c179e\"], [0.4444444444444444, \"#bd3786\"], [0.5555555555555556, \"#d8576b\"], [0.6666666666666666, \"#ed7953\"], [0.7777777777777778, \"#fb9f3a\"], [0.8888888888888888, \"#fdca26\"], [1.0, \"#f0f921\"]], \"type\": \"histogram2d\"}], \"histogram2dcontour\": [{\"colorbar\": {\"outlinewidth\": 0, \"ticks\": \"\"}, \"colorscale\": [[0.0, \"#0d0887\"], [0.1111111111111111, \"#46039f\"], [0.2222222222222222, \"#7201a8\"], [0.3333333333333333, \"#9c179e\"], [0.4444444444444444, \"#bd3786\"], [0.5555555555555556, \"#d8576b\"], [0.6666666666666666, \"#ed7953\"], [0.7777777777777778, \"#fb9f3a\"], [0.8888888888888888, \"#fdca26\"], [1.0, \"#f0f921\"]], \"type\": \"histogram2dcontour\"}], \"mesh3d\": [{\"colorbar\": {\"outlinewidth\": 0, \"ticks\": \"\"}, \"type\": \"mesh3d\"}], \"parcoords\": [{\"line\": {\"colorbar\": {\"outlinewidth\": 0, \"ticks\": \"\"}}, \"type\": \"parcoords\"}], \"pie\": [{\"automargin\": true, \"type\": \"pie\"}], \"scatter\": [{\"marker\": {\"colorbar\": {\"outlinewidth\": 0, \"ticks\": \"\"}}, \"type\": \"scatter\"}], \"scatter3d\": [{\"line\": {\"colorbar\": {\"outlinewidth\": 0, \"ticks\": \"\"}}, \"marker\": {\"colorbar\": {\"outlinewidth\": 0, \"ticks\": \"\"}}, \"type\": \"scatter3d\"}], \"scattercarpet\": [{\"marker\": {\"colorbar\": {\"outlinewidth\": 0, \"ticks\": \"\"}}, \"type\": \"scattercarpet\"}], \"scattergeo\": [{\"marker\": {\"colorbar\": {\"outlinewidth\": 0, \"ticks\": \"\"}}, \"type\": \"scattergeo\"}], \"scattergl\": [{\"marker\": {\"colorbar\": {\"outlinewidth\": 0, \"ticks\": \"\"}}, \"type\": \"scattergl\"}], \"scattermapbox\": [{\"marker\": {\"colorbar\": {\"outlinewidth\": 0, \"ticks\": \"\"}}, \"type\": \"scattermapbox\"}], \"scatterpolar\": [{\"marker\": {\"colorbar\": {\"outlinewidth\": 0, \"ticks\": \"\"}}, \"type\": \"scatterpolar\"}], \"scatterpolargl\": [{\"marker\": {\"colorbar\": {\"outlinewidth\": 0, \"ticks\": \"\"}}, \"type\": \"scatterpolargl\"}], \"scatterternary\": [{\"marker\": {\"colorbar\": {\"outlinewidth\": 0, \"ticks\": \"\"}}, \"type\": \"scatterternary\"}], \"surface\": [{\"colorbar\": {\"outlinewidth\": 0, \"ticks\": \"\"}, \"colorscale\": [[0.0, \"#0d0887\"], [0.1111111111111111, \"#46039f\"], [0.2222222222222222, \"#7201a8\"], [0.3333333333333333, \"#9c179e\"], [0.4444444444444444, \"#bd3786\"], [0.5555555555555556, \"#d8576b\"], [0.6666666666666666, \"#ed7953\"], [0.7777777777777778, \"#fb9f3a\"], [0.8888888888888888, \"#fdca26\"], [1.0, \"#f0f921\"]], \"type\": \"surface\"}], \"table\": [{\"cells\": {\"fill\": {\"color\": \"#EBF0F8\"}, \"line\": {\"color\": \"white\"}}, \"header\": {\"fill\": {\"color\": \"#C8D4E3\"}, \"line\": {\"color\": \"white\"}}, \"type\": \"table\"}]}, \"layout\": {\"annotationdefaults\": {\"arrowcolor\": \"#2a3f5f\", \"arrowhead\": 0, \"arrowwidth\": 1}, \"coloraxis\": {\"colorbar\": {\"outlinewidth\": 0, \"ticks\": \"\"}}, \"colorscale\": {\"diverging\": [[0, \"#8e0152\"], [0.1, \"#c51b7d\"], [0.2, \"#de77ae\"], [0.3, \"#f1b6da\"], [0.4, \"#fde0ef\"], [0.5, \"#f7f7f7\"], [0.6, \"#e6f5d0\"], [0.7, \"#b8e186\"], [0.8, \"#7fbc41\"], [0.9, \"#4d9221\"], [1, \"#276419\"]], \"sequential\": [[0.0, \"#0d0887\"], [0.1111111111111111, \"#46039f\"], [0.2222222222222222, \"#7201a8\"], [0.3333333333333333, \"#9c179e\"], [0.4444444444444444, \"#bd3786\"], [0.5555555555555556, \"#d8576b\"], [0.6666666666666666, \"#ed7953\"], [0.7777777777777778, \"#fb9f3a\"], [0.8888888888888888, \"#fdca26\"], [1.0, \"#f0f921\"]], \"sequentialminus\": [[0.0, \"#0d0887\"], [0.1111111111111111, \"#46039f\"], [0.2222222222222222, \"#7201a8\"], [0.3333333333333333, \"#9c179e\"], [0.4444444444444444, \"#bd3786\"], [0.5555555555555556, \"#d8576b\"], [0.6666666666666666, \"#ed7953\"], [0.7777777777777778, \"#fb9f3a\"], [0.8888888888888888, \"#fdca26\"], [1.0, \"#f0f921\"]]}, \"colorway\": [\"#636efa\", \"#EF553B\", \"#00cc96\", \"#ab63fa\", \"#FFA15A\", \"#19d3f3\", \"#FF6692\", \"#B6E880\", \"#FF97FF\", \"#FECB52\"], \"font\": {\"color\": \"#2a3f5f\"}, \"geo\": {\"bgcolor\": \"white\", \"lakecolor\": \"white\", \"landcolor\": \"white\", \"showlakes\": true, \"showland\": true, \"subunitcolor\": \"#C8D4E3\"}, \"hoverlabel\": {\"align\": \"left\"}, \"hovermode\": \"closest\", \"mapbox\": {\"style\": \"light\"}, \"paper_bgcolor\": \"white\", \"plot_bgcolor\": \"white\", \"polar\": {\"angularaxis\": {\"gridcolor\": \"#EBF0F8\", \"linecolor\": \"#EBF0F8\", \"ticks\": \"\"}, \"bgcolor\": \"white\", \"radialaxis\": {\"gridcolor\": \"#EBF0F8\", \"linecolor\": \"#EBF0F8\", \"ticks\": \"\"}}, \"scene\": {\"xaxis\": {\"backgroundcolor\": \"white\", \"gridcolor\": \"#DFE8F3\", \"gridwidth\": 2, \"linecolor\": \"#EBF0F8\", \"showbackground\": true, \"ticks\": \"\", \"zerolinecolor\": \"#EBF0F8\"}, \"yaxis\": {\"backgroundcolor\": \"white\", \"gridcolor\": \"#DFE8F3\", \"gridwidth\": 2, \"linecolor\": \"#EBF0F8\", \"showbackground\": true, \"ticks\": \"\", \"zerolinecolor\": \"#EBF0F8\"}, \"zaxis\": {\"backgroundcolor\": \"white\", \"gridcolor\": \"#DFE8F3\", \"gridwidth\": 2, \"linecolor\": \"#EBF0F8\", \"showbackground\": true, \"ticks\": \"\", \"zerolinecolor\": \"#EBF0F8\"}}, \"shapedefaults\": {\"line\": {\"color\": \"#2a3f5f\"}}, \"ternary\": {\"aaxis\": {\"gridcolor\": \"#DFE8F3\", \"linecolor\": \"#A2B1C6\", \"ticks\": \"\"}, \"baxis\": {\"gridcolor\": \"#DFE8F3\", \"linecolor\": \"#A2B1C6\", \"ticks\": \"\"}, \"bgcolor\": \"white\", \"caxis\": {\"gridcolor\": \"#DFE8F3\", \"linecolor\": \"#A2B1C6\", \"ticks\": \"\"}}, \"title\": {\"x\": 0.05}, \"xaxis\": {\"automargin\": true, \"gridcolor\": \"#EBF0F8\", \"linecolor\": \"#EBF0F8\", \"ticks\": \"\", \"title\": {\"standoff\": 15}, \"zerolinecolor\": \"#EBF0F8\", \"zerolinewidth\": 2}, \"yaxis\": {\"automargin\": true, \"gridcolor\": \"#EBF0F8\", \"linecolor\": \"#EBF0F8\", \"ticks\": \"\", \"title\": {\"standoff\": 15}, \"zerolinecolor\": \"#EBF0F8\", \"zerolinewidth\": 2}}}},\n",
       "                        {\"responsive\": true}\n",
       "                    ).then(function(){\n",
       "                            \n",
       "var gd = document.getElementById('9981ad9e-bfde-4c5f-9334-dd90734f2bb1');\n",
       "var x = new MutationObserver(function (mutations, observer) {{\n",
       "        var display = window.getComputedStyle(gd).display;\n",
       "        if (!display || display === 'none') {{\n",
       "            console.log([gd, 'removed!']);\n",
       "            Plotly.purge(gd);\n",
       "            observer.disconnect();\n",
       "        }}\n",
       "}});\n",
       "\n",
       "// Listen for the removal of the full notebook cells\n",
       "var notebookContainer = gd.closest('#notebook-container');\n",
       "if (notebookContainer) {{\n",
       "    x.observe(notebookContainer, {childList: true});\n",
       "}}\n",
       "\n",
       "// Listen for the clearing of the current output cell\n",
       "var outputEl = gd.closest('.output');\n",
       "if (outputEl) {{\n",
       "    x.observe(outputEl, {childList: true});\n",
       "}}\n",
       "\n",
       "                        })\n",
       "                };\n",
       "                \n",
       "            </script>\n",
       "        </div>\n",
       "</body>\n",
       "</html>"
      ]
     },
     "metadata": {
      "tags": []
     },
     "output_type": "display_data"
    },
    {
     "name": "stdout",
     "output_type": "stream",
     "text": [
      "C1'    0.86\n",
      "C2'    0.61\n",
      "C3'    1.22\n",
      "C4'    0.73\n",
      "C5'    0.93\n",
      "C2     1.18\n",
      "C5     0.82\n",
      "C6     0.82\n",
      "C8     0.72\n",
      "Name: RF, dtype: float64\n",
      "H1'     0.11\n",
      "H2'     0.12\n",
      "H3'     0.11\n",
      "H4'     0.09\n",
      "H5'     0.14\n",
      "H5''    0.12\n",
      "H2      0.13\n",
      "H5      0.10\n",
      "H6      0.10\n",
      "H8      0.12\n",
      "Name: RF, dtype: float64\n",
      "Linear    0.13\n",
      "Ridge     0.13\n",
      "SVR       0.15\n",
      "RF        0.11\n",
      "ET        0.13\n",
      "GB        0.12\n",
      "dtype: float64\n",
      "Linear    0.93\n",
      "Ridge     0.95\n",
      "SVR       1.34\n",
      "RF        0.88\n",
      "ET        0.96\n",
      "GB        0.93\n",
      "dtype: float64\n"
     ]
    }
   ],
   "source": [
    "# rename rows \n",
    "errors_val_all.rename(index={0: \"Linear\", 1: \"Ridge\", 2: \"SVR\", 3:\"RF\", 4:\"ET\", 5:\"GB\"}, inplace=True)\n",
    "errors_test_all.rename(index={0: \"Linear\", 1: \"Ridge\", 2: \"SVR\", 3:\"RF\", 4:\"ET\", 5:\"GB\"}, inplace=True)\n",
    "\n",
    "# analyze\n",
    "errors_t = errors_val_all.transpose()\n",
    "errors_t = errors_t*(-1) # positive MAE\n",
    "#errors_t.columns = ['LR','Ridge','SVR','RF','ET','GB']\n",
    "models = errors_t.columns\n",
    "nuclei_C = [\"C1'\", \"C2'\", \"C3'\", \"C4'\", \"C5'\",\"C2\",\"C5\",\"C6\",\"C8\"]\n",
    "nuclei_H = [\"H1'\", \"H2'\", \"H3'\",\"H4'\", \"H5'\",\"H5''\",\"H2\",\"H5\",\"H6\",\"H8\"]\n",
    "errors_C = errors_t.loc[nuclei_C,]\n",
    "errors_H = errors_t.loc[nuclei_H, ]\n",
    "errors_t.to_csv(DIR_PATH+'data/train_cv_MAE_NEW.csv', sep=' ', index=False)\n",
    "\n",
    "# plot cv result\n",
    "import plotly.graph_objects as go\n",
    "fig = go.Figure()\n",
    "for model in models:\n",
    "  fig.add_trace(go.Scatter(y=errors_C[model],x=errors_C.index,name=model))\n",
    "#fig.update_xaxes(showgrid=False)\n",
    "#fig.update_yaxes(showgrid=False)\n",
    "fig.update_layout(template = 'plotly_white',font=dict(size=20))\n",
    "fig.show()\n",
    "\n",
    "# report test result\n",
    "errors_t = errors_test_all.transpose()\n",
    "errors_t = errors_t # positive MAE\n",
    "errors_C = errors_t.loc[nuclei_C,]\n",
    "errors_H = errors_t.loc[nuclei_H, ]\n",
    "errors_t.to_csv(DIR_PATH+'data/test_MAE_NEW.csv', sep=' ', index=False)\n",
    "print(errors_C['RF'].round(2))\n",
    "print(errors_H['RF'].round(2))\n",
    "print(errors_H.mean().round(2))\n",
    "print(errors_C.mean().round(2))"
   ]
  },
  {
   "cell_type": "code",
   "execution_count": null,
   "metadata": {
    "colab": {
     "base_uri": "https://localhost:8080/",
     "height": 232
    },
    "colab_type": "code",
    "id": "i3ruAa22gdnE",
    "outputId": "455df66a-4aa2-4938-cb90-792d3da145c6"
   },
   "outputs": [
    {
     "ename": "NameError",
     "evalue": "ignored",
     "output_type": "error",
     "traceback": [
      "\u001b[0;31m---------------------------------------------------------------------------\u001b[0m",
      "\u001b[0;31mNameError\u001b[0m                                 Traceback (most recent call last)",
      "\u001b[0;32m<ipython-input-18-3144a611bf20>\u001b[0m in \u001b[0;36m<module>\u001b[0;34m()\u001b[0m\n\u001b[1;32m      2\u001b[0m \u001b[0;31m#errors_train_mae.rename(index={0: \"Linear\", 1: \"Ridge\", 2: \"SVR\", 3:\"RF\", 4:\"ET\", 5:\"GB\"}, inplace=True)\u001b[0m\u001b[0;34m\u001b[0m\u001b[0;34m\u001b[0m\u001b[0;34m\u001b[0m\u001b[0m\n\u001b[1;32m      3\u001b[0m \u001b[0;31m#errors_train_sd.rename(index={0: \"Linear\", 1: \"Ridge\", 2: \"SVR\", 3:\"RF\", 4:\"ET\", 5:\"GB\"}, inplace=True)\u001b[0m\u001b[0;34m\u001b[0m\u001b[0;34m\u001b[0m\u001b[0;34m\u001b[0m\u001b[0m\n\u001b[0;32m----> 4\u001b[0;31m \u001b[0merrors_test_mae\u001b[0m\u001b[0;34m.\u001b[0m\u001b[0mrename\u001b[0m\u001b[0;34m(\u001b[0m\u001b[0mindex\u001b[0m\u001b[0;34m=\u001b[0m\u001b[0;34m{\u001b[0m\u001b[0;36m0\u001b[0m\u001b[0;34m:\u001b[0m \u001b[0;34m\"Linear\"\u001b[0m\u001b[0;34m,\u001b[0m \u001b[0;36m1\u001b[0m\u001b[0;34m:\u001b[0m \u001b[0;34m\"Ridge\"\u001b[0m\u001b[0;34m,\u001b[0m \u001b[0;36m2\u001b[0m\u001b[0;34m:\u001b[0m \u001b[0;34m\"SVR\"\u001b[0m\u001b[0;34m,\u001b[0m \u001b[0;36m3\u001b[0m\u001b[0;34m:\u001b[0m\u001b[0;34m\"RF\"\u001b[0m\u001b[0;34m,\u001b[0m \u001b[0;36m4\u001b[0m\u001b[0;34m:\u001b[0m\u001b[0;34m\"ET\"\u001b[0m\u001b[0;34m,\u001b[0m \u001b[0;36m5\u001b[0m\u001b[0;34m:\u001b[0m\u001b[0;34m\"GB\"\u001b[0m\u001b[0;34m}\u001b[0m\u001b[0;34m,\u001b[0m \u001b[0minplace\u001b[0m\u001b[0;34m=\u001b[0m\u001b[0;32mTrue\u001b[0m\u001b[0;34m)\u001b[0m\u001b[0;34m\u001b[0m\u001b[0;34m\u001b[0m\u001b[0m\n\u001b[0m\u001b[1;32m      5\u001b[0m \u001b[0;31m# save output\u001b[0m\u001b[0;34m\u001b[0m\u001b[0;34m\u001b[0m\u001b[0;34m\u001b[0m\u001b[0m\n\u001b[1;32m      6\u001b[0m \u001b[0;31m#errors_train_mae.to_csv(DIR_PATH+'data/train_mae_NEW.csv', sep=' ', index=False)\u001b[0m\u001b[0;34m\u001b[0m\u001b[0;34m\u001b[0m\u001b[0;34m\u001b[0m\u001b[0m\n",
      "\u001b[0;31mNameError\u001b[0m: name 'errors_test_mae' is not defined"
     ]
    }
   ],
   "source": [
    "# rename rows\n",
    "#errors_train_mae.rename(index={0: \"Linear\", 1: \"Ridge\", 2: \"SVR\", 3:\"RF\", 4:\"ET\", 5:\"GB\"}, inplace=True)\n",
    "#errors_train_sd.rename(index={0: \"Linear\", 1: \"Ridge\", 2: \"SVR\", 3:\"RF\", 4:\"ET\", 5:\"GB\"}, inplace=True)\n",
    "#errors_test_mae.rename(index={0: \"Linear\", 1: \"Ridge\", 2: \"SVR\", 3:\"RF\", 4:\"ET\", 5:\"GB\"}, inplace=True)\n",
    "# save output\n",
    "#errors_train_mae.to_csv(DIR_PATH+'data/train_mae_NEW.csv', sep=' ', index=False)\n",
    "#errors_train_sd.to_csv(DIR_PATH+'data/train_sd_NEW.csv',sep=' ',index=False)\n",
    "#errors_test_mae.to_csv(DIR_PATH+'data/test_mae_NEW.csv',sep=' ',index=False)"
   ]
  },
  {
   "cell_type": "markdown",
   "metadata": {
    "colab_type": "text",
    "id": "1WVszrt4p1nw"
   },
   "source": [
    "Random forest base line model beats other models."
   ]
  },
  {
   "cell_type": "markdown",
   "metadata": {
    "colab_type": "text",
    "id": "Nmrr0sbbVeE0"
   },
   "source": [
    "## Save random forest models"
   ]
  },
  {
   "cell_type": "code",
   "execution_count": null,
   "metadata": {
    "colab": {},
    "colab_type": "code",
    "id": "wGfqjZgWVfNZ"
   },
   "outputs": [],
   "source": [
    "# read in data\n",
    "DIR_PATH = '/content/drive/My Drive/RESEARCH/ss2cs/'\n",
    "\n",
    "# use total training data to fit one hot encoder\n",
    "train_X = pd.read_csv(DIR_PATH+'data/train_X.csv',sep=' ',header=0)\n",
    "train_X = train_X.drop(['id','length','resid'],axis = 1)\n",
    "enc = preprocessing.OneHotEncoder(sparse = False)\n",
    "enc.fit(train_X)\n",
    "\n",
    "# train each nucleus\n",
    "for nucleus in nuclei:\n",
    "    train = pd.read_csv(DIR_PATH+'data/'+nucleus.replace(\"'\",\"p\")+'.csv', sep = ' ', header = 0)\n",
    "    y = train['expcs']\n",
    "    X = train.drop(['id','expcs'],axis = 1)\n",
    "\n",
    "    X_resname = X.drop(['length'],axis=1)\n",
    "    X_info = X['length']  #did not use rna name\n",
    "  \n",
    "    X_resname_enc = pd.DataFrame(enc.transform(X_resname))\n",
    "    X_enc = pd.concat([X_info, X_resname_enc],axis = 1)\n",
    "\n",
    "\n",
    "    # random forest fitting\n",
    "    rf = RandomForestRegressor()\n",
    "    rf.fit(X_enc, y)\n",
    "    # save the model to disk\n",
    "    filename = DIR_PATH + 'output/RF_' + nucleus + '.sav'\n",
    "    pickle.dump(rf, open(filename, 'wb'),-1)"
   ]
  },
  {
   "cell_type": "markdown",
   "metadata": {
    "colab_type": "text",
    "id": "-GoRSJmulEf1"
   },
   "source": [
    "## Plot learning curve"
   ]
  },
  {
   "cell_type": "code",
   "execution_count": null,
   "metadata": {
    "colab": {
     "base_uri": "https://localhost:8080/",
     "height": 312
    },
    "colab_type": "code",
    "id": "iwTTd11ReoiB",
    "outputId": "ae8a68eb-aa66-4d4e-ef87-b5a71b5903f9"
   },
   "outputs": [
    {
     "data": {
      "text/plain": [
       "<matplotlib.legend.Legend at 0x7ff3a345bf60>"
      ]
     },
     "execution_count": 10,
     "metadata": {
      "tags": []
     },
     "output_type": "execute_result"
    },
    {
     "data": {
      "image/png": "[encoded data removed]",
      "text/plain": [
       "<Figure size 432x288 with 1 Axes>"
      ]
     },
     "metadata": {
      "tags": []
     },
     "output_type": "display_data"
    }
   ],
   "source": [
    "from sklearn.model_selection import learning_curve\n",
    "import matplotlib.pyplot as plt\n",
    "# set drive path\n",
    "DIR_PATH = 'drive/My Drive/ss2cs/'\n",
    "# use total training data to fit one hot encoder\n",
    "train_X = pd.read_csv(DIR_PATH+'data/train_X.csv',sep=' ',header=0)\n",
    "train_X = train_X.drop(['id','length','resid'],axis = 1)\n",
    "enc = preprocessing.OneHotEncoder(sparse = False)\n",
    "enc.fit(train_X)\n",
    "nuclei = [\"C1'\", \"C2'\", \"C3'\", \"C4'\", \"C5'\",\"C2\",\"C5\",\"C6\",\"C8\",\n",
    "          \"H1'\", \"H2'\", \"H3'\",\"H4'\", \"H5'\",\"H5''\",\"H2\",\"H5\",\"H6\",\"H8\"]\n",
    "# estimators tested\n",
    "models = [\n",
    "      LinearRegression(),  \n",
    "      Ridge(),\n",
    "      SVR(),\n",
    "      RandomForestRegressor(),\n",
    "      ExtraTreesRegressor(),\n",
    "      GradientBoostingRegressor()\n",
    "      ]\n",
    "\n",
    "nucleus = \"H1'\"\n",
    "train = pd.read_csv(DIR_PATH+'data/'+nucleus.replace(\"'\",\"p\")+'.csv', sep = ' ', header = 0)\n",
    "y = train['expcs']\n",
    "X = train.drop(['id','expcs'],axis = 1)\n",
    "X_resname = X.drop(['length'],axis=1)\n",
    "X_info = X['length']  #did not use rna name\n",
    "\n",
    "# one hot encoding\n",
    "X_resname_enc = pd.DataFrame(enc.transform(X_resname))\n",
    "X_enc = pd.concat([X_info, X_resname_enc],axis = 1)\n",
    "model = RandomForestRegressor()\n",
    "train_sizes, train_scores, valid_scores = learning_curve(model, X_enc, y, cv = 10, scoring='neg_mean_absolute_error')\n",
    "train_scores = train_scores*(-1)\n",
    "valid_scores = valid_scores*(-1)\n",
    "\n",
    "\n",
    "plt.title(\"Random forest learning curve for H1'\")\n",
    "plt.xlabel(\"Training examples\")\n",
    "plt.ylabel(\"Score\")\n",
    "train_scores_mean = np.mean(train_scores, axis=1)\n",
    "train_scores_std = np.std(train_scores, axis=1)\n",
    "valid_scores_mean = np.mean(valid_scores, axis=1)\n",
    "valid_scores_std = np.std(valid_scores, axis=1)\n",
    "train_sizes_mean = train_sizes.mean()\n",
    "train_sizes_mean = train_sizes.std()\n",
    "# Plot learning curve\n",
    "plt.grid()\n",
    "plt.fill_between(train_sizes, train_scores_mean - train_scores_std,\n",
    "                      train_scores_mean + train_scores_std, alpha=0.1,\n",
    "                      color=\"r\")\n",
    "plt.fill_between(train_sizes, valid_scores_mean - valid_scores_std,\n",
    "                      valid_scores_mean + valid_scores_std, alpha=0.1,\n",
    "                      color=\"g\")\n",
    "plt.plot(train_sizes, train_scores_mean, 'o-', color=\"r\",\n",
    "              label=\"Training score\")\n",
    "plt.plot(train_sizes, valid_scores_mean, 'o-', color=\"g\",\n",
    "              label=\"Cross-validation score\")\n",
    "plt.legend(loc=\"best\")\n"
   ]
  },
  {
   "cell_type": "markdown",
   "metadata": {
    "colab_type": "text",
    "id": "OCVrPf8Mp6pl"
   },
   "source": [
    "## Fine tune random forest (only exploration, did not show great improvement, not included in thesis)"
   ]
  },
  {
   "cell_type": "code",
   "execution_count": null,
   "metadata": {
    "colab": {},
    "colab_type": "code",
    "id": "6jLSRFT7HF_l"
   },
   "outputs": [],
   "source": [
    "# read in data\n",
    "DIR_PATH = 'drive/My Drive/ss2cs/'\n",
    "\n",
    "# use total training data to fit one hot encoder\n",
    "train_X = pd.read_csv(DIR_PATH+'data/train_X.csv',sep=' ',header=0)\n",
    "train_X = train_X.drop(['id','length','resid'],axis = 1)\n",
    "enc = preprocessing.OneHotEncoder(sparse = False)\n",
    "enc.fit(train_X)\n",
    "\n",
    "# random search grid\n",
    "# Number of trees in random forest\n",
    "n_estimators = [100]\n",
    "# Number of features to consider at every split\n",
    "#max_features = ['sqrt','auto']\n",
    "# Maximum number of levels in tree\n",
    "#max_depth = [int(x) for x in np.linspace(10, 110, num = 11)]\n",
    "#max_depth.append(None)\n",
    "#max_depth = [None]\n",
    "# Minimum number of samples required to split a node\n",
    "#min_samples_split = [2]\n",
    "# Minimum number of samples required at each leaf node\n",
    "#min_samples_leaf = [1]\n",
    "# Method of selecting samples for training each tree\n",
    "#bootstrap = [True]\n",
    "# Create the random grid\n",
    "random_grid = {'n_estimators': n_estimators}\n",
    "               #'max_features': max_features,\n",
    "               #'max_depth': max_depth,\n",
    "               #'min_samples_split': min_samples_split,\n",
    "               #'min_samples_leaf': min_samples_leaf,\n",
    "               #'bootstrap': bootstrap}\n",
    "\n",
    "# train each nucleus\n",
    "for nucleus in nuclei:\n",
    "    train = pd.read_csv(DIR_PATH+'data/'+nucleus.replace(\"'\",\"p\")+'.csv', sep = ' ', header = 0)\n",
    "    \n",
    "    y = train['expcs']\n",
    "    X = train.drop(['id','expcs'],axis = 1)\n",
    "\n",
    "    \n",
    "    X_resname = X.drop(['length'],axis=1)\n",
    "    X_info = X['length']  #did not use rna name\n",
    "    \n",
    "\n",
    "    #enc = preprocessing.OneHotEncoder(sparse = False)\n",
    "    #X_resname_enc = pd.DataFrame(enc.fit_transform(X_resname))\n",
    "    X_resname_enc = pd.DataFrame(enc.transform(X_resname))\n",
    "    X_enc = pd.concat([X_info, X_resname_enc],axis = 1)\n",
    "    #X_enc.to_csv(DIR_PATH+'/info/encoded_train_'+nucleus+'_update.csv',sep=' ',header=False, index=False)\n",
    "    \n",
    "    # split train and validation\n",
    "    #X_train, X_test, y_train, y_test = train_test_split(X_enc, y, test_size = 0.2, random_state = 42)\n",
    "\n",
    "\n",
    "    # random search cross validation\n",
    "    rf = RandomForestRegressor()\n",
    "    rf_random = GridSearchCV(estimator = rf, param_grid = random_grid,\n",
    "    cv = 5, scoring='neg_mean_absolute_error', verbose = 1,\n",
    "    n_jobs = 1,return_train_score=True,refit=True)\n",
    "    rf_random.fit(X_enc, y)\n",
    "    \n",
    "    # predict test\n",
    "    best_model = rf_random.best_estimator_# save the model to disk  \n",
    "    #pred = best_model.predict(X_test)\n",
    "\n",
    "    logfile = DIR_PATH+'output/param_tune_'+nucleus+'.txt'\n",
    "    with open(logfile, 'a') as f:\n",
    "        pprint(rf_random.best_params_, stream=f)\n",
    "        pprint(rf_random.best_score_, stream=f)\n",
    "        #pprint(np.mean(abs(pred-y_test)), stream=f)\n",
    "\n",
    "    filename = DIR_PATH + 'output/best_model_' + nucleus + '.sav'\n",
    "    pickle.dump(best_model, open(filename, 'wb'),-1)\n",
    "    "
   ]
  },
  {
   "cell_type": "markdown",
   "metadata": {
    "colab_type": "text",
    "id": "GSiQkPW2_rSB"
   },
   "source": [
    "## Stacked model (also exploration)"
   ]
  },
  {
   "cell_type": "code",
   "execution_count": null,
   "metadata": {
    "colab": {
     "base_uri": "https://localhost:8080/",
     "height": 35
    },
    "colab_type": "code",
    "id": "1AbRqsdY8SH3",
    "outputId": "f149c3b5-9dd7-4e9e-d0ff-2afe6f51e2ad"
   },
   "outputs": [
    {
     "data": {
      "text/plain": [
       "0.6085557163137878"
      ]
     },
     "execution_count": 351,
     "metadata": {
      "tags": []
     },
     "output_type": "execute_result"
    }
   ],
   "source": [
    "#base_model = GradientBoostingRegressor()\n",
    "#base_model.fit(X_train, y_train)\n",
    "#print(np.mean(abs(base_model.predict(X_test)-y_test)))\n",
    "from sklearn.linear_model import Ridge\n",
    "from sklearn.svm import LinearSVR\n",
    "from sklearn.ensemble import StackingRegressor\n",
    "from sklearn.linear_model import LinearRegression\n",
    "from sklearn.svm import SVR\n",
    "estimators = [\n",
    "              ('lr', LinearRegression()),\n",
    "              ('ridge',Ridge()),\n",
    "              ('svr',SVR()),\n",
    "              ('et',ExtraTreesRegressor())\n",
    "              ]\n",
    "reg = StackingRegressor(\n",
    "    estimators=estimators,\n",
    "    final_estimator=RandomForestRegressor(n_estimators=600,random_state=42,\n",
    "                                          min_samples_split=2, min_samples_leaf=1,\n",
    "                                          max_depth=90,bootstrap=True)\n",
    "    )\n",
    "\n",
    "reg.fit(X_train, y_train)\n",
    "np.mean(abs(reg.predict(X_test)-y_test))"
   ]
  },
  {
   "cell_type": "markdown",
   "metadata": {
    "colab_type": "text",
    "id": "LQ0FmdYJv4N_"
   },
   "source": [
    "# Test cases with BME"
   ]
  },
  {
   "cell_type": "markdown",
   "metadata": {
    "colab_type": "text",
    "id": "ewvl1UZ5APFP"
   },
   "source": [
    "## Debug: some experimental chemical shifts numbering issues need to be fixed before running BME"
   ]
  },
  {
   "cell_type": "markdown",
   "metadata": {
    "colab_type": "text",
    "id": "E2ypohBroZt5"
   },
   "source": [
    "Seems like DSSR structure last column was original numbering; can use it to renumber;</br>\n",
    "2NBX: use resid2 to correct</br>\n",
    "5KMZ: correct</br>\n",
    "6GZK: correct</br>\n",
    "6GZR: correct</br>\n",
    "6HAG: contains protein residues, remove this example</br>\n",
    "6MCI: correct</br>\n",
    "2N7X and 2N82: correct"
   ]
  },
  {
   "cell_type": "code",
   "execution_count": null,
   "metadata": {
    "colab": {},
    "colab_type": "code",
    "id": "ahQpPv_almDn"
   },
   "outputs": [],
   "source": [
    "\"\"\"\n",
    "DIR_PATH='drive/My Drive/ss2cs/'\n",
    "rna=\"2NBX\"\n",
    "cs = pd.read_csv(DIR_PATH+\"info/corrected_chemical_shifts/measured_shifts_\"+rna+\".dat\",delim_whitespace=True,header=None)\n",
    "cs.columns = ['resname','resid','nucleus','expcs','error']\n",
    "#print(sorted(cs.resid.unique()))\n",
    "#print(cs.resid.nunique())\n",
    "#print(cs.sort_values(by=['resid','resname','nucleus']))\n",
    "\n",
    "ss = pd.read_csv(DIR_PATH+\"info/\"+rna+\".ct\",delim_whitespace=True,header=None,skiprows=1)\n",
    "ss.columns = [\"resid\",\"resname\",\"resid_before\",\"resid_after\",\"bp\",\"resid2\"]\n",
    "pd.set_option('display.max_rows', None)\n",
    "#print(ss)\n",
    "\n",
    "# fix numbering issue\n",
    "for i in cs.resid.unique():\n",
    "  j = ss[ss['resid2']==i][\"resid\"].unique()[0]\n",
    "  cs.loc[cs.resid==i,'resid'] = j\n",
    "cs.to_csv(DIR_PATH+\"info/corrected_chemical_shifts/measured_shifts_\"+rna+\".dat\",sep=\" \",header=None,index=False)\n",
    "\"\"\""
   ]
  },
  {
   "cell_type": "markdown",
   "metadata": {
    "colab_type": "text",
    "id": "9PtzHjNNhfAd"
   },
   "source": [
    "## Generate SS2CS predictions"
   ]
  },
  {
   "cell_type": "code",
   "execution_count": null,
   "metadata": {
    "colab": {
     "base_uri": "https://localhost:8080/",
     "height": 119
    },
    "colab_type": "code",
    "id": "lODsVtskDOuE",
    "outputId": "fa530da3-5428-4a9d-8877-752930a8bf93"
   },
   "outputs": [
    {
     "name": "stdout",
     "output_type": "stream",
     "text": [
      "Cloning into 'BME'...\n",
      "remote: Enumerating objects: 186, done.\u001b[K\n",
      "remote: Total 186 (delta 0), reused 0 (delta 0), pack-reused 186\u001b[K\n",
      "Receiving objects: 100% (186/186), 37.03 MiB | 21.88 MiB/s, done.\n",
      "Resolving deltas: 100% (90/90), done.\n",
      "/content/BME\n"
     ]
    }
   ],
   "source": [
    "#!pip install git+https://github.com/sbottaro/BME.git\n",
    "!git clone https://github.com/sbottaro/BME.git\n",
    "%cd BME/\n",
    "import bme_reweight as bme"
   ]
  },
  {
   "cell_type": "markdown",
   "metadata": {
    "colab_type": "text",
    "id": "9I2ai_FkCiul"
   },
   "source": [
    "## Aaron's model deployment"
   ]
  },
  {
   "cell_type": "code",
   "execution_count": null,
   "metadata": {
    "colab": {},
    "colab_type": "code",
    "id": "49TY0KL6CgDa"
   },
   "outputs": [],
   "source": [
    "import numpy as np\n",
    "import pandas as pd\n",
    "from sklearn import preprocessing\n",
    "from sklearn import metrics\n",
    "from sklearn.ensemble import RandomForestRegressor\n",
    "from sklearn.metrics import mean_absolute_error\n",
    "import bme_reweight as bme\n",
    "from scipy.stats import pearsonr\n",
    "from sklearn.metrics import mean_squared_error\n",
    "from math import sqrt\n",
    "import plotly.graph_objects as go\n",
    "from plotly.subplots import make_subplots\n",
    "rna = \"5KH8\"\n",
    "rnas=[\"5KH8\"]\n",
    "remove_rnas = [\"5KH8\"]\n",
    "\n",
    "# get working directory\n",
    "DIR_PATH = '/content/drive/My Drive/RESEARCH/ss2cs/'\n",
    "\n",
    "def load_ss2cs_model(nucleus, DIR_PATH = '/content/drive/My Drive/RESEARCH/ss2cs/'):\n",
    "  ''' load save model '''\n",
    "  filename = DIR_PATH + 'output/RF_' + nucleus + '.sav'\n",
    "  model = pickle.load(open(filename, 'rb'))\n",
    "  return(model)\n",
    "\n",
    "nuclei = [\"C1'\", \"C2'\", \"C3'\", \"C4'\", \"C5'\",\"C2\",\"C5\",\"C6\",\"C8\", \"H1'\", \"H2'\", \"H3'\",\"H4'\", \"H5'\",\"H5''\",\"H2\",\"H5\",\"H6\",\"H8\"]\n",
    "\n",
    "# fit one hot encoder\n",
    "train_X = pd.read_csv(DIR_PATH+\"data/train_X_NEW.csv\",sep=' ',header=0)\n",
    "train_X = train_X.drop(['id','length','resid'],axis = 1)\n",
    "enc = preprocessing.OneHotEncoder(sparse = False)\n",
    "enc.fit(train_X)\n",
    "\n",
    "for i in range(1, 19):\n",
    "  print(\"for conformer \",i)\n",
    "  # featurization\n",
    "  features = extractCT(DIR_PATH+\"test/mcfold/\"+rna+\"_\"+str(i)+\".ct\", rna)\n",
    "  features.drop('i_resname_char', axis=1, inplace=True)\n",
    "\n",
    "  # fit model for each nucleus type\n",
    "  results = pd.DataFrame([])\n",
    "  for nucleus in nuclei:\n",
    "\n",
    "    # one hot encoding testing data\n",
    "    features_resname = features.drop(['id', 'length', 'resid'],axis=1)\n",
    "    features_info = features['length']\n",
    "    features_resname_enc = pd.DataFrame(enc.transform(features_resname))\n",
    "    features_enc = pd.concat([features_info, features_resname_enc],axis = 1)\n",
    "\n",
    "    # model prediction\n",
    "    model = load_ss2cs_model(nucleus)\n",
    "    y_pred = model.predict(features_enc)\n",
    "\n",
    "    # format prediction\n",
    "    output_resname = features['i_resname'].apply(lambda x: get_resname_char(x))\n",
    "    output_resid = features['resid']\n",
    "    output_nucleus = pd.Series([nucleus]*len(features))\n",
    "    output_cs = pd.Series(y_pred)\n",
    "    output_error = pd.Series([\".\"]*len(features))\n",
    "    result = pd.concat([output_resname, output_resid, output_nucleus, output_cs, output_error],axis=1)\n",
    "    results = pd.concat([results, result],ignore_index=True)\n",
    "  print(\"write output\")\n",
    "  results.to_csv(DIR_PATH+\"test/mcfold/\"+rna+\"-\"+str(i)+\"-pred_NEW.csv\", sep=' ', header=None, index=False)"
   ]
  },
  {
   "cell_type": "code",
   "execution_count": null,
   "metadata": {
    "colab": {
     "base_uri": "https://localhost:8080/",
     "height": 397
    },
    "colab_type": "code",
    "id": "IJoppWVcv6xU",
    "outputId": "21bc038a-d8aa-4421-fbc2-4942dee30954"
   },
   "outputs": [
    {
     "name": "stdout",
     "output_type": "stream",
     "text": [
      "for conformer  1\n",
      "write output\n",
      "for conformer  2\n",
      "write output\n",
      "for conformer  3\n",
      "write output\n",
      "for conformer  4\n",
      "write output\n",
      "for conformer  5\n",
      "write output\n",
      "for conformer  6\n",
      "write output\n",
      "for conformer  7\n",
      "write output\n",
      "for conformer  8\n",
      "write output\n",
      "for conformer  9\n",
      "write output\n",
      "for conformer  10\n",
      "write output\n",
      "for conformer  11\n",
      "write output\n"
     ]
    }
   ],
   "source": [
    "import numpy as np\n",
    "import pandas as pd\n",
    "from sklearn import preprocessing\n",
    "from sklearn import metrics\n",
    "from sklearn.ensemble import RandomForestRegressor\n",
    "from sklearn.metrics import mean_absolute_error\n",
    "import bme_reweight as bme\n",
    "from scipy.stats import pearsonr\n",
    "from sklearn.metrics import mean_squared_error\n",
    "from math import sqrt\n",
    "import plotly.graph_objects as go\n",
    "from plotly.subplots import make_subplots\n",
    "rna = \"6GZK\"\n",
    "rnas=[\"6GZK\"]\n",
    "remove_rnas = [\"6GZK\"]\n",
    "\n",
    "# get working directory\n",
    "DIR_PATH = '/content/drive/My Drive/RESEARCH/ss2cs/'\n",
    "\n",
    "def load_model(nucleus, DIR_PATH = '/content/drive/My Drive/RESEARCH/ss2cs/'):\n",
    "  ''' load save model '''\n",
    "  filename = DIR_PATH + 'output/RF_' + nucleus + '.sav'\n",
    "  model = pickle.load(open(filename, 'rb'))\n",
    "  return(model)\n",
    "\n",
    "nuclei = [\"C1'\", \"C2'\", \"C3'\", \"C4'\", \"C5'\",\"C2\",\"C5\",\"C6\",\"C8\", \"H1'\", \"H2'\", \"H3'\",\"H4'\", \"H5'\",\"H5''\",\"H2\",\"H5\",\"H6\",\"H8\"]\n",
    "\n",
    "# fit one hot encoder\n",
    "train_X = pd.read_csv(DIR_PATH+\"data/train_X.csv\",sep=' ',header=0)\n",
    "train_X = train_X.drop(['id','length','resid'],axis = 1)\n",
    "enc = preprocessing.OneHotEncoder(sparse = False)\n",
    "enc.fit(train_X)\n",
    "\n",
    "for i in range(1,12):\n",
    "  print(\"for conformer \",i)\n",
    "  # featurization\n",
    "  features = extractCT(DIR_PATH+\"test/mcfold/\"+rna+\"_\"+str(i)+\".ct\", rna)\n",
    "  features.drop('i_resname_char', axis=1, inplace=True)\n",
    "\n",
    "  # fit model for each nucleus type\n",
    "  results = pd.DataFrame([])\n",
    "  for nucleus in nuclei:\n",
    "    train = pd.read_csv(DIR_PATH+'data/'+nucleus.replace(\"'\",\"p\")+'.csv', sep = ' ', header = 0)\n",
    "    #indexNames = train[train['id'] == rna].index\n",
    "    # Delete these row indexes from dataFrame\n",
    "    #train.drop(indexNames,inplace=True)\n",
    "    train = train[~train['id'].isin(remove_rnas)]\n",
    "    train.reset_index(inplace=True,drop=True)\n",
    "    y = train['expcs']\n",
    "    X = train.drop(['id','expcs'],axis = 1)\n",
    "    X_resname = X.drop(['length'],axis=1)\n",
    "    X_info = X['length']  #did not use rna name\n",
    "\n",
    "    # one hot encoding training data\n",
    "    X_resname_enc = pd.DataFrame(enc.transform(X_resname))\n",
    "    X_enc = pd.concat([X_info, X_resname_enc],axis = 1)\n",
    "    #model = RandomForestRegressor()\n",
    "    #model.fit(X_enc, y.values.ravel())\n",
    "    filename = DIR_PATH + 'output/RF_' + nucleus + '.sav'\n",
    "    model = pickle.dump(rf, open(filename, 'wb'),-1)\n",
    "\n",
    "    # one hot encoding testing data\n",
    "    features_resname = features.drop(['id', 'length', 'resid'],axis=1)\n",
    "    features_info = features['length']\n",
    "    features_resname_enc = pd.DataFrame(enc.transform(features_resname))\n",
    "    features_enc = pd.concat([features_info, features_resname_enc],axis = 1)\n",
    "\n",
    "    # model prediction\n",
    "    y_pred = model.predict(features_enc)\n",
    "\n",
    "    # format prediction\n",
    "    output_resname = features['i_resname'].apply(lambda x: get_resname_char(x))\n",
    "    output_resid = features['resid']\n",
    "    output_nucleus = pd.Series([nucleus]*len(features))\n",
    "    output_cs = pd.Series(y_pred)\n",
    "    output_error = pd.Series([\".\"]*len(features))\n",
    "    result = pd.concat([output_resname, output_resid, output_nucleus, output_cs, output_error],axis=1)\n",
    "    results = pd.concat([results, result],ignore_index=True)\n",
    "  print(\"write output\")\n",
    "  results.to_csv(DIR_PATH+\"test/mcfold/\"+rna+\"-\"+str(i)+\"-pred.csv\", sep=' ', header=None, index=False)"
   ]
  },
  {
   "cell_type": "markdown",
   "metadata": {
    "colab_type": "text",
    "id": "0lwZi2w1hkRn"
   },
   "source": [
    "## Run BME"
   ]
  },
  {
   "cell_type": "markdown",
   "metadata": {
    "colab_type": "text",
    "id": "adRYcbqCiXTa"
   },
   "source": [
    "### Write input files for BME"
   ]
  },
  {
   "cell_type": "code",
   "execution_count": null,
   "metadata": {
    "colab": {},
    "colab_type": "code",
    "id": "9auZbGL0BwFE"
   },
   "outputs": [],
   "source": [
    " rnas = [\"5KH8\"]\n",
    " n_conformer = 18\n",
    " for rna in rnas: \n",
    "  # combine into one sim.txt file\n",
    "  sim = pd.DataFrame([])\n",
    "  # read experimental data\n",
    "  expcs = pd.read_csv(DIR_PATH+\"info/corrected_chemical_shifts/measured_shifts_\"+rna+\".dat\",delim_whitespace=True,header=None)\n",
    "  expcs.columns = [\"resname\",\"resid\",\"nucleus\",\"cs\",\"error\"]\n",
    "  expcs = expcs[expcs['nucleus'].isin(nuclei)]\n",
    "\n",
    "  for i in range(1, n_conformer+1):\n",
    "    df = pd.read_csv(DIR_PATH+\"test/mcfold/\"+\"5KH8\"+\"-\"+str(i)+\"-pred_NEW.csv\",delim_whitespace=True,header=None)\n",
    "    df.columns=[\"resname\",\"resid\",\"nucleus\",\"cs\",\"error\"]\n",
    "\n",
    "    # only need entries that have experimental values\n",
    "    df_merged = pd.merge(expcs,df,how='left',on=['resname','resid','nucleus'])\n",
    "    cs_pred_partial = df_merged['cs_y']\n",
    "    sim = sim.append(cs_pred_partial)\n",
    "  sim.index = range(1, n_conformer+1)\n",
    "\n",
    "  sim.to_csv(DIR_PATH+\"test/mcfold/\"+rna+\"-sim_NEW.txt\",sep=\" \",index=True,header=None)"
   ]
  },
  {
   "cell_type": "markdown",
   "metadata": {
    "colab_type": "text",
    "id": "-lwhb5TJib-4"
   },
   "source": [
    "### Find optimal theta"
   ]
  },
  {
   "cell_type": "code",
   "execution_count": null,
   "metadata": {
    "colab": {},
    "colab_type": "code",
    "id": "Emd6fhMLCShL"
   },
   "outputs": [],
   "source": [
    "def add_accuracy(row):\n",
    "  if \"C\" in row['nucleus']:\n",
    "    return 0.84\n",
    "  else:\n",
    "    return 0.11\n",
    "\n",
    "def BME_find_theta(expcs, sim, theta):\n",
    "  bmea = bme.Reweight(verbose=False)\n",
    "  # load data\n",
    "  bmea.load(expcs, sim)\n",
    "  chi2_before,chi2_after, srel = bmea.optimize(theta=theta)\n",
    "  return chi2_after\n",
    "\n",
    "def BME_find_weights(expcs, sim, theta):\n",
    "  bmea = bme.Reweight(verbose=False)\n",
    "  bmea.load(expcs, sim)\n",
    "  chi2_before,chi2_after, srel = bmea.optimize(theta=theta)\n",
    "  return list(np.round_(bmea.get_weights(), 5))\n",
    "\n",
    "\n",
    "#rnas=['1HWQ','1YMO',\"2JTP\",\"2L3E\",\"2LUB\",\"2N6X\",\"2N7X\",\"2N82\",\"2NBY\",\"2NC0\",\"5KH8\",\"5KMZ\",\"5V16\",\"6GZK\"]\n",
    "theta_all_rnas = []\n",
    "chi2_all_rnas = []\n",
    "\n",
    "for rna in rnas:\n",
    "  expcs = pd.read_csv(DIR_PATH+\"info/corrected_chemical_shifts/measured_shifts_\"+rna+\".dat\",delim_whitespace=True,header=None)\n",
    "  expcs.columns = [\"resname\",\"resid\",\"nucleus\",\"cs\",\"error\"]\n",
    "  expcs = expcs[expcs['nucleus'].isin(nuclei)]\n",
    "  expcs['acc']=expcs.apply (lambda row: add_accuracy(row), axis=1)\n",
    "  expcs.index = np.arange(1, len(expcs) + 1)\n",
    "  # rewrite expcs with header\n",
    "  expcs[['cs','acc']].to_csv(DIR_PATH+\"test/mcfold/\"+rna+\"-exp.txt\",sep=\" \",index_label = '#', header = ['DATA=JCOUPLINGS', 'PRIOR=GAUSS'])\n",
    "  \n",
    "  theta_total = []\n",
    "  chi2_total = []\n",
    "  # run BME\n",
    "  for theta in range(1,50):\n",
    "    try:\n",
    "      chi2 = BME_find_theta(DIR_PATH+\"test/mcfold/\"+rna+\"-exp.txt\", DIR_PATH+\"test/mcfold/\"+rna+\"-sim_NEW.txt\", theta)\n",
    "      chi2_total.append(chi2)\n",
    "      theta_total.append(theta)\n",
    "    except:\n",
    "      print(\"another\")\n",
    "  theta_all_rnas.append(theta_total)\n",
    "  chi2_all_rnas.append(chi2_total)"
   ]
  },
  {
   "cell_type": "code",
   "execution_count": null,
   "metadata": {
    "colab": {},
    "colab_type": "code",
    "id": "7_AWmaj65DZn"
   },
   "outputs": [],
   "source": [
    "#theta_selected = [21,25,7,11,6,3,2,24,16,23,14,37,3,24] # values selected from generated figures\n",
    "#theta_selected = [3, 8] # freeGS_GUA and apo_GUA\n",
    "#theta_selected = [23] # 2N1Q\n",
    "theta_selected = [2,3,5] # fsw free\n",
    "for i,rna in enumerate(rnas):\n",
    "  thetas = theta_all_rnas[i]\n",
    "  chi2s = chi2_all_rnas[i]\n",
    "  fig = go.Figure(data=go.Scatter(x=thetas, y=chi2s, mode='lines+markers'))\n",
    "  fig.update_layout(height=600, width=1600,template=\"plotly_white\",font=dict(family=\"Helvetica\",size=24),showlegend=False,title={'text':rna,'y':0.9,'x':0.5})\n",
    "  \n",
    "  fig.update_layout(\n",
    "    xaxis = dict(\n",
    "        title_text = r\"$\\theta$\",\n",
    "        title_font = {\"size\": 32},\n",
    "        title_standoff = 25),\n",
    "    yaxis = dict(\n",
    "        title_text = r\"$\\chi^2$\",\n",
    "        title_font = {\"size\": 24},\n",
    "        title_standoff = 25),\n",
    "    annotations=[\n",
    "        dict(\n",
    "            x=theta_selected[i],\n",
    "            y=chi2s[thetas.index(theta_selected[i])],\n",
    "            xref=\"x\",\n",
    "            yref=\"y\",\n",
    "            text=\"selected value\",\n",
    "            font=dict(size=32),\n",
    "            showarrow=True,\n",
    "            align=\"center\",\n",
    "            arrowhead=2,\n",
    "            arrowsize=1,\n",
    "            arrowwidth=2,\n",
    "            arrowcolor=\"#636363\",\n",
    "            ax=40,\n",
    "            ay=-60,\n",
    "            bordercolor=\"#c7c7c7\",\n",
    "            borderwidth=2,\n",
    "            borderpad=4,\n",
    "            bgcolor=\"lightgrey\",#\"#ff7f0e\",\n",
    "            opacity=0.8)\n",
    "          ]\n",
    "    )\n",
    "    \n",
    "  fig.show()\n"
   ]
  },
  {
   "cell_type": "markdown",
   "metadata": {
    "colab_type": "text",
    "id": "9K9ObSeOilZE"
   },
   "source": [
    "### Run BME with optimal theta"
   ]
  },
  {
   "cell_type": "code",
   "execution_count": null,
   "metadata": {
    "colab": {},
    "colab_type": "code",
    "id": "WnZ55_05SsRx"
   },
   "outputs": [],
   "source": [
    "#thetas = [21,25,7,11,6,3,2,24,16,23,14,37,3,24] # values selected from generated figures\n",
    "#thetas = [3, 8]\n",
    "#thetas = [23]\n",
    "thetas = [14]\n",
    "for i,rna in enumerate(rnas):\n",
    "  theta = thetas[i]\n",
    "  # load\n",
    "  expcs = pd.read_csv(DIR_PATH+\"info/corrected_chemical_shifts/measured_shifts_\"+rna+\".dat\",delim_whitespace=True,header=None)\n",
    "  expcs.columns = [\"resname\",\"resid\",\"nucleus\",\"cs\",\"error\"]\n",
    "  expcs = expcs[expcs['nucleus'].isin(nuclei)]\n",
    "  expcs.index = np.arange(1, len(expcs) + 1)\n",
    "  expCS = expcs['cs'].values\n",
    "  sim = pd.read_csv(DIR_PATH+\"test/mcfold/\"+rna+\"-sim_NEW.txt\",delim_whitespace=True,header=None)\n",
    "  \n",
    "  # run BME\n",
    "  weights = BME_find_weights(DIR_PATH+\"test/mcfold/\"+rna+\"-exp.txt\",DIR_PATH+\"test/mcfold/\"+rna+\"-sim_NEW.txt\", theta)\n",
    "  \n",
    "  mae = []\n",
    "  rmse = []\n",
    "  R = []\n",
    "  \n",
    "  if rna == \"5KH8\" or rna == \"freeGS_GUA\" or rna == \"apo_GUA\" or rna == \"fsw_freeGS\" or rna == \"fsw_freeES1\" or rna == \"fsw_freeES2\":\n",
    "    print(\"fsw\")\n",
    "    for i in range(0,18):\n",
    "      mae.append(np.mean(abs(expCS-sim.loc[i,sim.columns != 0])))\n",
    "      rmse.append(sqrt(mean_squared_error(expCS,sim.loc[i,sim.columns != 0])))\n",
    "      R.append(pearsonr(expCS,sim.loc[i,sim.columns != 0])[0])\n",
    "  else:\n",
    "    for i in range(0,11):\n",
    "      mae.append(np.mean(abs(expCS-sim.loc[i,sim.columns != 0])))\n",
    "      rmse.append(sqrt(mean_squared_error(expCS,sim.loc[i,sim.columns != 0])))\n",
    "      R.append(pearsonr(expCS,sim.loc[i,sim.columns != 0])[0])\n",
    "  \n",
    "  stats = pd.DataFrame({'mae':mae,'rmse':rmse,'R_cof':R, 'BME':weights})\n",
    "  stats.to_csv(DIR_PATH+'test/mcfold/'+rna+\"_summary_NEW.txt\", sep=' ',header=False,index=False)"
   ]
  },
  {
   "cell_type": "code",
   "execution_count": null,
   "metadata": {
    "colab": {
     "base_uri": "https://localhost:8080/",
     "height": 357
    },
    "colab_type": "code",
    "id": "Ou8SGNPIP4yT",
    "outputId": "8cd0ae14-58c9-4db9-ffe0-b5f931901918"
   },
   "outputs": [
    {
     "name": "stdout",
     "output_type": "stream",
     "text": [
      "5KH8\n",
      "       0     1    2      3\n",
      "0   0.73  1.30  1.0   0.54\n",
      "1   0.75  1.33  1.0   0.00\n",
      "2   0.70  1.26  1.0   8.60\n",
      "3   0.72  1.29  1.0   0.00\n",
      "4   0.76  1.37  1.0   0.00\n",
      "5   0.71  1.23  1.0   0.28\n",
      "6   0.73  1.29  1.0   4.65\n",
      "7   0.75  1.32  1.0   0.00\n",
      "8   0.73  1.33  1.0   0.00\n",
      "9   0.68  1.19  1.0   4.40\n",
      "10  0.70  1.21  1.0   4.03\n",
      "11  0.78  1.40  1.0   0.45\n",
      "12  0.75  1.30  1.0   3.94\n",
      "13  0.77  1.39  1.0   0.16\n",
      "14  0.75  1.37  1.0   9.49\n",
      "15  0.70  1.20  1.0  56.86\n",
      "16  0.70  1.21  1.0   4.03\n",
      "17  0.71  1.21  1.0   2.56\n"
     ]
    }
   ],
   "source": [
    "for rna in rnas:\n",
    "  x = pd.read_csv(DIR_PATH+'test/mcfold/'+rna+\"_summary_NEW.txt\",delim_whitespace=True,header=None)\n",
    "  x[3] = 100*x[3]\n",
    "  print(rna)\n",
    "  print(x.head(20).round(2))"
   ]
  },
  {
   "cell_type": "code",
   "execution_count": null,
   "metadata": {
    "colab": {
     "base_uri": "https://localhost:8080/",
     "height": 35
    },
    "colab_type": "code",
    "id": "7Q1I4fD4-6G_",
    "outputId": "cbe448d6-86b1-4a6c-9225-bb761e944d15"
   },
   "outputs": [
    {
     "data": {
      "application/vnd.google.colaboratory.intrinsic+json": {
       "type": "string"
      },
      "text/plain": [
       "'045'"
      ]
     },
     "execution_count": 2,
     "metadata": {
      "tags": []
     },
     "output_type": "execute_result"
    }
   ],
   "source": [
    "i=45\n",
    "residue=\"%03d\"%i\n",
    "residue"
   ]
  }
 ],
 "metadata": {
  "colab": {
   "collapsed_sections": [
    "izzIyBgi9W26",
    "6Fj0IETGIXbL",
    "Z0UTo3Cb078E",
    "Dm26CFYaHGxb",
    "9GxLhUJxF3e8",
    "RQMvh06jFAiz",
    "Nmrr0sbbVeE0",
    "-GoRSJmulEf1",
    "OCVrPf8Mp6pl",
    "GSiQkPW2_rSB",
    "ewvl1UZ5APFP"
   ],
   "include_colab_link": true,
   "name": "ss2cs.ipynb",
   "provenance": []
  },
  "kernelspec": {
   "display_name": "Python 3",
   "language": "python",
   "name": "python3"
  },
  "language_info": {
   "codemirror_mode": {
    "name": "ipython",
    "version": 3
   },
   "file_extension": ".py",
   "mimetype": "text/x-python",
   "name": "python",
   "nbconvert_exporter": "python",
   "pygments_lexer": "ipython3",
   "version": "3.7.9"
  }
 },
 "nbformat": 4,
 "nbformat_minor": 4
}
